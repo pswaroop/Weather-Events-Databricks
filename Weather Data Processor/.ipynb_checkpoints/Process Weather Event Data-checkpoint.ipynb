{
 "cells": [
  {
   "cell_type": "code",
   "execution_count": null,
   "metadata": {
    "application/vnd.databricks.v1+cell": {
     "cellMetadata": {
      "byteLimit": 2048000,
      "rowLimit": 10000
     },
     "inputWidgets": {},
     "nuid": "94bd3d10-4e8a-4b0b-959a-4e3ad0e2cc0a",
     "showTitle": false,
     "tableResultSettingsMap": {},
     "title": ""
    }
   },
   "outputs": [],
   "source": [
    "#%run \"Weather Data Producer/Weather Data Producer\""
   ]
  },
  {
   "cell_type": "code",
   "execution_count": null,
   "metadata": {
    "application/vnd.databricks.v1+cell": {
     "cellMetadata": {
      "byteLimit": 2048000,
      "rowLimit": 10000
     },
     "inputWidgets": {},
     "nuid": "046118b4-85d8-4c80-a82d-9afce0d5a3cc",
     "showTitle": false,
     "tableResultSettingsMap": {},
     "title": ""
    }
   },
   "outputs": [
    {
     "name": "stdout",
     "output_type": "stream",
     "text": [
      "\u001b[43mNote: you may need to restart the kernel using dbutils.library.restartPython() to use updated packages.\u001b[0m\n",
      "Collecting azure.identity\n",
      "  Using cached azure_identity-1.19.0-py3-none-any.whl (187 kB)\n",
      "Collecting msal-extensions>=1.2.0\n",
      "  Using cached msal_extensions-1.2.0-py3-none-any.whl (19 kB)\n",
      "Collecting msal>=1.30.0\n",
      "  Using cached msal-1.31.1-py3-none-any.whl (113 kB)\n",
      "Requirement already satisfied: cryptography>=2.5 in /databricks/python3/lib/python3.10/site-packages (from azure.identity) (39.0.1)\n",
      "Requirement already satisfied: typing-extensions>=4.0.0 in /databricks/python3/lib/python3.10/site-packages (from azure.identity) (4.4.0)\n",
      "Collecting azure-core>=1.31.0\n",
      "  Using cached azure_core-1.32.0-py3-none-any.whl (198 kB)\n",
      "Requirement already satisfied: requests>=2.21.0 in /databricks/python3/lib/python3.10/site-packages (from azure-core>=1.31.0->azure.identity) (2.28.1)\n",
      "Requirement already satisfied: six>=1.11.0 in /usr/lib/python3/dist-packages (from azure-core>=1.31.0->azure.identity) (1.16.0)\n",
      "Collecting typing-extensions>=4.0.0\n",
      "  Using cached typing_extensions-4.12.2-py3-none-any.whl (37 kB)\n",
      "Requirement already satisfied: cffi>=1.12 in /databricks/python3/lib/python3.10/site-packages (from cryptography>=2.5->azure.identity) (1.15.1)\n",
      "Requirement already satisfied: PyJWT[crypto]<3,>=1.0.0 in /usr/lib/python3/dist-packages (from msal>=1.30.0->azure.identity) (2.3.0)\n",
      "Collecting portalocker<3,>=1.4\n",
      "  Using cached portalocker-2.10.1-py3-none-any.whl (18 kB)\n",
      "Requirement already satisfied: pycparser in /databricks/python3/lib/python3.10/site-packages (from cffi>=1.12->cryptography>=2.5->azure.identity) (2.21)\n",
      "Requirement already satisfied: idna<4,>=2.5 in /databricks/python3/lib/python3.10/site-packages (from requests>=2.21.0->azure-core>=1.31.0->azure.identity) (3.4)\n",
      "Requirement already satisfied: urllib3<1.27,>=1.21.1 in /databricks/python3/lib/python3.10/site-packages (from requests>=2.21.0->azure-core>=1.31.0->azure.identity) (1.26.14)\n",
      "Requirement already satisfied: certifi>=2017.4.17 in /databricks/python3/lib/python3.10/site-packages (from requests>=2.21.0->azure-core>=1.31.0->azure.identity) (2022.12.7)\n",
      "Requirement already satisfied: charset-normalizer<3,>=2 in /databricks/python3/lib/python3.10/site-packages (from requests>=2.21.0->azure-core>=1.31.0->azure.identity) (2.0.4)\n",
      "Installing collected packages: typing-extensions, portalocker, azure-core, msal, msal-extensions, azure.identity\n",
      "  Attempting uninstall: typing-extensions\n",
      "    Found existing installation: typing_extensions 4.4.0\n",
      "    Not uninstalling typing-extensions at /databricks/python3/lib/python3.10/site-packages, outside environment /local_disk0/.ephemeral_nfs/envs/pythonEnv-d5f40c7e-f6a8-481d-8c8b-07af8e7dae65\n",
      "    Can't uninstall 'typing_extensions'. No files were found to uninstall.\n",
      "Successfully installed azure-core-1.32.0 azure.identity-1.19.0 msal-1.31.1 msal-extensions-1.2.0 portalocker-2.10.1 typing-extensions-4.12.2\n",
      "\u001b[43mNote: you may need to restart the kernel using dbutils.library.restartPython() to use updated packages.\u001b[0m\n"
     ]
    }
   ],
   "source": [
    "%pip install azure.identity"
   ]
  },
  {
   "cell_type": "code",
   "execution_count": null,
   "metadata": {
    "application/vnd.databricks.v1+cell": {
     "cellMetadata": {
      "byteLimit": 2048000,
      "rowLimit": 10000
     },
     "inputWidgets": {},
     "nuid": "55ae9df2-ed07-4a2c-a03e-dbadc951b216",
     "showTitle": false,
     "tableResultSettingsMap": {},
     "title": ""
    }
   },
   "outputs": [
    {
     "name": "stdout",
     "output_type": "stream",
     "text": [
      "\u001b[43mNote: you may need to restart the kernel using dbutils.library.restartPython() to use updated packages.\u001b[0m\n",
      "Collecting azure-storage-file-datalake\n",
      "  Using cached azure_storage_file_datalake-12.18.1-py3-none-any.whl (258 kB)\n",
      "Collecting azure-storage-blob>=12.24.1\n",
      "  Using cached azure_storage_blob-12.24.1-py3-none-any.whl (408 kB)\n",
      "Requirement already satisfied: azure-core>=1.30.0 in /local_disk0/.ephemeral_nfs/envs/pythonEnv-d5f40c7e-f6a8-481d-8c8b-07af8e7dae65/lib/python3.10/site-packages (from azure-storage-file-datalake) (1.32.0)\n",
      "Collecting isodate>=0.6.1\n",
      "  Using cached isodate-0.7.2-py3-none-any.whl (22 kB)\n",
      "Requirement already satisfied: typing-extensions>=4.6.0 in /local_disk0/.ephemeral_nfs/envs/pythonEnv-d5f40c7e-f6a8-481d-8c8b-07af8e7dae65/lib/python3.10/site-packages (from azure-storage-file-datalake) (4.12.2)\n",
      "Requirement already satisfied: requests>=2.21.0 in /databricks/python3/lib/python3.10/site-packages (from azure-core>=1.30.0->azure-storage-file-datalake) (2.28.1)\n",
      "Requirement already satisfied: six>=1.11.0 in /usr/lib/python3/dist-packages (from azure-core>=1.30.0->azure-storage-file-datalake) (1.16.0)\n",
      "Requirement already satisfied: cryptography>=2.1.4 in /databricks/python3/lib/python3.10/site-packages (from azure-storage-blob>=12.24.1->azure-storage-file-datalake) (39.0.1)\n",
      "Requirement already satisfied: cffi>=1.12 in /databricks/python3/lib/python3.10/site-packages (from cryptography>=2.1.4->azure-storage-blob>=12.24.1->azure-storage-file-datalake) (1.15.1)\n",
      "Requirement already satisfied: urllib3<1.27,>=1.21.1 in /databricks/python3/lib/python3.10/site-packages (from requests>=2.21.0->azure-core>=1.30.0->azure-storage-file-datalake) (1.26.14)\n",
      "Requirement already satisfied: charset-normalizer<3,>=2 in /databricks/python3/lib/python3.10/site-packages (from requests>=2.21.0->azure-core>=1.30.0->azure-storage-file-datalake) (2.0.4)\n",
      "Requirement already satisfied: idna<4,>=2.5 in /databricks/python3/lib/python3.10/site-packages (from requests>=2.21.0->azure-core>=1.30.0->azure-storage-file-datalake) (3.4)\n",
      "Requirement already satisfied: certifi>=2017.4.17 in /databricks/python3/lib/python3.10/site-packages (from requests>=2.21.0->azure-core>=1.30.0->azure-storage-file-datalake) (2022.12.7)\n",
      "Requirement already satisfied: pycparser in /databricks/python3/lib/python3.10/site-packages (from cffi>=1.12->cryptography>=2.1.4->azure-storage-blob>=12.24.1->azure-storage-file-datalake) (2.21)\n",
      "Installing collected packages: isodate, azure-storage-blob, azure-storage-file-datalake\n",
      "Successfully installed azure-storage-blob-12.24.1 azure-storage-file-datalake-12.18.1 isodate-0.7.2\n",
      "\u001b[43mNote: you may need to restart the kernel using dbutils.library.restartPython() to use updated packages.\u001b[0m\n"
     ]
    }
   ],
   "source": [
    "%pip install azure-storage-file-datalake"
   ]
  },
  {
   "cell_type": "code",
   "execution_count": null,
   "metadata": {
    "application/vnd.databricks.v1+cell": {
     "cellMetadata": {
      "byteLimit": 2048000,
      "rowLimit": 10000
     },
     "inputWidgets": {},
     "nuid": "1539fecc-787d-4fc7-b88a-4a09b2733ae5",
     "showTitle": false,
     "tableResultSettingsMap": {},
     "title": ""
    }
   },
   "outputs": [],
   "source": [
    "dbutils.library.restartPython()"
   ]
  },
  {
   "cell_type": "code",
   "execution_count": null,
   "metadata": {
    "application/vnd.databricks.v1+cell": {
     "cellMetadata": {
      "byteLimit": 2048000,
      "rowLimit": 10000
     },
     "inputWidgets": {},
     "nuid": "00728b91-cb93-4efd-9636-9081f0ca1622",
     "showTitle": false,
     "tableResultSettingsMap": {},
     "title": ""
    }
   },
   "outputs": [],
   "source": [
    "from azure.identity import ClientSecretCredential\n",
    "from functools import reduce\n",
    "from pyspark.sql import SparkSession\n",
    "from pyspark.sql import functions as F\n",
    "from pyspark.sql.functions import col, explode\n",
    "from pyspark.sql.types import StructType, StructField, StringType, IntegerType, FloatType"
   ]
  },
  {
   "cell_type": "code",
   "execution_count": null,
   "metadata": {
    "application/vnd.databricks.v1+cell": {
     "cellMetadata": {
      "byteLimit": 2048000,
      "rowLimit": 10000
     },
     "inputWidgets": {},
     "nuid": "82d8aa29-b059-4159-bc15-2115e9bf95ce",
     "showTitle": false,
     "tableResultSettingsMap": {},
     "title": ""
    }
   },
   "outputs": [],
   "source": [
    "\n",
    "# Azure authentication details\n",
    "tenant_id = \"******\"\n",
    "client_id = \"******\"\n",
    "client_secret = client_secret = dbutils.secrets.get(scope=\"my_scope\", key=\"datalakesecret\")\n",
    "storage_account_name = \"weatherdlake\"\n",
    "container_name = \"eventhubdata\"\n",
    "\n",
    "credential = ClientSecretCredential(tenant_id, client_id, client_secret)\n",
    "\n",
    "spark = SparkSession.builder.appName(\"AzureBlobReader\").getOrCreate()"
   ]
  },
  {
   "cell_type": "code",
   "execution_count": null,
   "metadata": {
    "application/vnd.databricks.v1+cell": {
     "cellMetadata": {
      "byteLimit": 2048000,
      "rowLimit": 10000
     },
     "inputWidgets": {},
     "nuid": "892db79e-0614-4a05-aa84-ad73e2eea334",
     "showTitle": false,
     "tableResultSettingsMap": {},
     "title": ""
    }
   },
   "outputs": [],
   "source": [
    "# Set the Spark configuration to use the ClientSecretCredential for accessing Azure Blob Storage\n",
    "spark.conf.set(f\"fs.azure.account.auth.type.{storage_account_name}.dfs.core.windows.net\", \"OAuth\")\n",
    "spark.conf.set(f\"fs.azure.account.oauth.provider.type.{storage_account_name}.dfs.core.windows.net\", \"org.apache.hadoop.fs.azurebfs.oauth2.ClientCredsTokenProvider\")\n",
    "spark.conf.set(f\"fs.azure.account.oauth2.client.id.{storage_account_name}.dfs.core.windows.net\", client_id)\n",
    "spark.conf.set(f\"fs.azure.account.oauth2.client.secret.{storage_account_name}.dfs.core.windows.net\", client_secret)\n",
    "spark.conf.set(f\"fs.azure.account.oauth2.client.endpoint.{storage_account_name}.dfs.core.windows.net\", f\"https://login.microsoftonline.com/{tenant_id}/oauth2/v2.0/token\")"
   ]
  },
  {
   "cell_type": "code",
   "execution_count": null,
   "metadata": {
    "application/vnd.databricks.v1+cell": {
     "cellMetadata": {
      "byteLimit": 2048000,
      "rowLimit": 10000
     },
     "inputWidgets": {},
     "nuid": "6740629d-fb53-4b34-b22e-7c278b02e4d5",
     "showTitle": false,
     "tableResultSettingsMap": {},
     "title": ""
    }
   },
   "outputs": [
    {
     "name": "stdout",
     "output_type": "stream",
     "text": [
      "root\n",
      " |-- base: string (nullable = true)\n",
      " |-- clouds: struct (nullable = true)\n",
      " |    |-- all: long (nullable = true)\n",
      " |-- cod: long (nullable = true)\n",
      " |-- coord: struct (nullable = true)\n",
      " |    |-- lat: double (nullable = true)\n",
      " |    |-- lon: double (nullable = true)\n",
      " |-- dt: long (nullable = true)\n",
      " |-- id: long (nullable = true)\n",
      " |-- main: struct (nullable = true)\n",
      " |    |-- feels_like: double (nullable = true)\n",
      " |    |-- grnd_level: long (nullable = true)\n",
      " |    |-- humidity: long (nullable = true)\n",
      " |    |-- pressure: long (nullable = true)\n",
      " |    |-- sea_level: long (nullable = true)\n",
      " |    |-- temp: double (nullable = true)\n",
      " |    |-- temp_max: double (nullable = true)\n",
      " |    |-- temp_min: double (nullable = true)\n",
      " |-- name: string (nullable = true)\n",
      " |-- sys: struct (nullable = true)\n",
      " |    |-- country: string (nullable = true)\n",
      " |    |-- id: long (nullable = true)\n",
      " |    |-- sunrise: long (nullable = true)\n",
      " |    |-- sunset: long (nullable = true)\n",
      " |    |-- type: long (nullable = true)\n",
      " |-- timezone: long (nullable = true)\n",
      " |-- visibility: long (nullable = true)\n",
      " |-- weather: array (nullable = true)\n",
      " |    |-- element: struct (containsNull = true)\n",
      " |    |    |-- description: string (nullable = true)\n",
      " |    |    |-- icon: string (nullable = true)\n",
      " |    |    |-- id: long (nullable = true)\n",
      " |    |    |-- main: string (nullable = true)\n",
      " |-- wind: struct (nullable = true)\n",
      " |    |-- deg: long (nullable = true)\n",
      " |    |-- gust: double (nullable = true)\n",
      " |    |-- speed: double (nullable = true)\n",
      "\n"
     ]
    }
   ],
   "source": [
    "json_file_path = f\"abfss://{container_name}@{storage_account_name}.dfs.core.windows.net/weatherdata/*.json\"\n",
    "\n",
    "df = spark.read.json(json_file_path)\n",
    "\n",
    "df.printSchema()"
   ]
  },
  {
   "cell_type": "code",
   "execution_count": null,
   "metadata": {
    "application/vnd.databricks.v1+cell": {
     "cellMetadata": {
      "byteLimit": 2048000,
      "rowLimit": 10000
     },
     "inputWidgets": {},
     "nuid": "64342459-fcbe-4a28-adb7-33eda33e1179",
     "showTitle": false,
     "tableResultSettingsMap": {},
     "title": ""
    }
   },
   "outputs": [
    {
     "data": {
      "text/html": [
       "<style scoped>\n",
       "  .table-result-container {\n",
       "    max-height: 300px;\n",
       "    overflow: auto;\n",
       "  }\n",
       "  table, th, td {\n",
       "    border: 1px solid black;\n",
       "    border-collapse: collapse;\n",
       "  }\n",
       "  th, td {\n",
       "    padding: 5px;\n",
       "  }\n",
       "  th {\n",
       "    text-align: left;\n",
       "  }\n",
       "</style><div class='table-result-container'><table class='table-result'><thead style='background-color: white'><tr><th>base</th><th>clouds</th><th>cod</th><th>coord</th><th>dt</th><th>id</th><th>main</th><th>name</th><th>sys</th><th>timezone</th><th>visibility</th><th>weather</th><th>wind</th></tr></thead><tbody><tr><td>stations</td><td>List(0)</td><td>200</td><td>List(28.6667, 77.2167)</td><td>1738833763</td><td>1273294</td><td>List(294.01, 989, 21, 1015, 1015, 295.2, 295.2, 295.2)</td><td>Delhi</td><td>List(IN, 9165, 1738805786, 1738845240, 1)</td><td>19800</td><td>6000</td><td>List(List(clear sky, 01d, 800, Clear))</td><td>List(300, 10.29, 5.14)</td></tr><tr><td>stations</td><td>List(72)</td><td>200</td><td>List(9.9399, 76.2602)</td><td>1738833530</td><td>1273874</td><td>List(306.54, 1007, 58, 1008, 1008, 303.66, 307.14, 303.66)</td><td>Kochi</td><td>List(IN, 267800, 1738804607, 1738846879, 2)</td><td>19800</td><td>10000</td><td>List(List(broken clouds, 04d, 803, Clouds))</td><td>List(270, null, 2.24)</td></tr><tr><td>stations</td><td>List(20)</td><td>200</td><td>List(13.0878, 80.2785)</td><td>1738833735</td><td>1264527</td><td>List(306.52, 1009, 57, 1010, 1010, 303.76, 305.5, 303.16)</td><td>Chennai</td><td>List(IN, 2093220, 1738803860, 1738845696, 2)</td><td>19800</td><td>6000</td><td>List(List(few clouds, 02d, 801, Clouds))</td><td>List(130, null, 3.6)</td></tr><tr><td>stations</td><td>List(20)</td><td>200</td><td>List(17.3753, 78.4744)</td><td>1738833872</td><td>1269843</td><td>List(303.9, 947, 27, 1010, 1010, 305.38, 306.88, 305.38)</td><td>Hyderabad</td><td>List(IN, 9214, 1738804599, 1738845824, 1)</td><td>19800</td><td>6000</td><td>List(List(few clouds, 02d, 801, Clouds))</td><td>List(110, null, 4.63)</td></tr><tr><td>stations</td><td>List(84)</td><td>200</td><td>List(11.0, 76.9667)</td><td>1738833294</td><td>1273865</td><td>List(304.04, 960, 21, 1009, 1009, 306.03, 306.03, 306.03)</td><td>Coimbatore</td><td>List(IN, 9206, 1738804510, 1738846636, 1)</td><td>19800</td><td>6000</td><td>List(List(broken clouds, 04d, 803, Clouds))</td><td>List(90, null, 6.17)</td></tr><tr><td>stations</td><td>List(0)</td><td>200</td><td>List(12.9762, 77.6033)</td><td>1738833455</td><td>1277333</td><td>List(300.89, 913, 29, 1010, 1010, 302.05, 302.95, 300.85)</td><td>Bengaluru</td><td>List(IN, 9205, 1738804494, 1738846346, 1)</td><td>19800</td><td>10000</td><td>List(List(clear sky, 01d, 800, Clear))</td><td>List(70, null, 5.14)</td></tr><tr><td>stations</td><td>List(0)</td><td>200</td><td>List(26.9167, 75.8167)</td><td>1738833903</td><td>1269515</td><td>List(295.71, 968, 20, 1016, 1016, 296.77, 296.77, 296.77)</td><td>Jaipur</td><td>List(IN, 9170, 1738805974, 1738845724, 1)</td><td>19800</td><td>6000</td><td>List(List(clear sky, 01d, 800, Clear))</td><td>List(320, null, 4.12)</td></tr><tr><td>stations</td><td>List(0)</td><td>200</td><td>List(23.0333, 72.6167)</td><td>1738833726</td><td>1279233</td><td>List(299.28, 1008, 21, 1013, 1013, 300.17, 300.17, 300.17)</td><td>Ahmedabad</td><td>List(IN, 9049, 1738806429, 1738846805, 1)</td><td>19800</td><td>4000</td><td>List(List(smoke, 50d, 711, Smoke))</td><td>List(30, null, 6.69)</td></tr><tr><td>stations</td><td>List(20)</td><td>200</td><td>List(23.2667, 77.4)</td><td>1738833909</td><td>1275841</td><td>List(294.28, 957, 28, 1014, 1014, 295.28, 295.28, 295.28)</td><td>Bhopal</td><td>List(IN, 9063, 1738805300, 1738845638, 1)</td><td>19800</td><td>6000</td><td>List(List(few clouds, 02d, 801, Clouds))</td><td>List(20, null, 6.17)</td></tr><tr><td>stations</td><td>List(0)</td><td>200</td><td>List(22.7179, 75.8333)</td><td>1738833862</td><td>1269743</td><td>List(295.48, 950, 33, 1014, 1014, 296.25, 296.25, 296.25)</td><td>Indore</td><td>List(IN, 9067, 1738805633, 1738846057, 1)</td><td>19800</td><td>6000</td><td>List(List(clear sky, 01d, 800, Clear))</td><td>List(70, null, 6.17)</td></tr><tr><td>stations</td><td>List(20)</td><td>200</td><td>List(22.5697, 88.3697)</td><td>1738833902</td><td>1275004</td><td>List(302.69, 1008, 39, 1009, 1009, 303.12, 303.12, 303.12)</td><td>Kolkata</td><td>List(IN, 9114, 1738802614, 1738843058, 1)</td><td>19800</td><td>4500</td><td>List(List(haze, 50d, 721, Haze))</td><td>List(350, null, 3.09)</td></tr><tr><td>stations</td><td>List(0)</td><td>200</td><td>List(19.0144, 72.8479)</td><td>1738833401</td><td>1275339</td><td>List(304.35, 1008, 42, 1009, 1009, 304.14, 304.14, 302.09)</td><td>Mumbai</td><td>List(IN, 9052, 1738806069, 1738847054, 1)</td><td>19800</td><td>3000</td><td>List(List(smoke, 50d, 711, Smoke))</td><td>List(280, null, 4.12)</td></tr><tr><td>stations</td><td>List(0)</td><td>200</td><td>List(25.6, 85.1167)</td><td>1738833909</td><td>1260086</td><td>List(296.37, 1005, 31, 1011, 1011, 297.11, 297.11, 297.11)</td><td>Patna</td><td>List(IN, 9129, 1738803635, 1738843599, 1)</td><td>19800</td><td>6000</td><td>List(List(clear sky, 01d, 800, Clear))</td><td>List(280, null, 5.66)</td></tr><tr><td>stations</td><td>List(0)</td><td>200</td><td>List(21.1667, 72.8333)</td><td>1738833714</td><td>1255364</td><td>List(302.87, 1009, 30, 1010, 1010, 304.14, 304.14, 304.14)</td><td>Surat</td><td>List(IN, 9071, 1738806234, 1738846896, 1)</td><td>19800</td><td>5000</td><td>List(List(smoke, 50d, 711, Smoke))</td><td>List(30, null, 6.17)</td></tr><tr><td>stations</td><td>List(0)</td><td>200</td><td>List(22.3, 73.2)</td><td>1738833783</td><td>1253573</td><td>List(300.9, 1008, 28, 1012, 1012, 302.13, 302.13, 302.13)</td><td>Vadodara</td><td>List(IN, 9060, 1738806233, 1738846722, 1)</td><td>19800</td><td>6000</td><td>List(List(clear sky, 01d, 800, Clear))</td><td>List(40, null, 5.66)</td></tr><tr><td>stations</td><td>List(0)</td><td>200</td><td>List(26.85, 80.9167)</td><td>1738833616</td><td>1264733</td><td>List(296.25, 998, 25, 1013, 1013, 297.14, 297.14, 297.14)</td><td>Lucknow</td><td>List(IN, 9176, 1738804745, 1738844505, 1)</td><td>19800</td><td>5000</td><td>List(List(haze, 50d, 721, Haze))</td><td>List(290, null, 7.2)</td></tr><tr><td>stations</td><td>List(0)</td><td>200</td><td>List(26.4667, 80.35)</td><td>1738833907</td><td>1267995</td><td>List(296.64, 999, 17, 1014, 1014, 297.69, 297.69, 297.69)</td><td>Kanpur</td><td>List(IN, null, 1738804849, 1738844673, null)</td><td>19800</td><td>10000</td><td>List(List(clear sky, 01d, 800, Clear))</td><td>List(300, 8.06, 6.77)</td></tr><tr><td>stations</td><td>List(0)</td><td>200</td><td>List(21.15, 79.1)</td><td>1738833903</td><td>1262180</td><td>List(300.92, 977, 28, 1011, 1011, 302.16, 302.16, 302.16)</td><td>Nagpur</td><td>List(IN, 9069, 1738804729, 1738845393, 1)</td><td>19800</td><td>5000</td><td>List(List(haze, 50d, 721, Haze))</td><td>List(20, null, 2.57)</td></tr><tr><td>stations</td><td>List(1)</td><td>200</td><td>List(18.5196, 73.8553)</td><td>1738833200</td><td>1259229</td><td>List(303.0, 938, 24, 1010, 1010, 304.76, 304.76, 304.76)</td><td>Pune</td><td>List(IN, null, 1738805791, 1738846849, null)</td><td>19800</td><td>10000</td><td>List(List(clear sky, 01d, 800, Clear))</td><td>List(121, 4.12, 3.78)</td></tr></tbody></table></div>"
      ]
     },
     "metadata": {
      "application/vnd.databricks.v1+output": {
       "addedWidgets": {},
       "aggData": [],
       "aggError": "",
       "aggOverflow": false,
       "aggSchema": [],
       "aggSeriesLimitReached": false,
       "aggType": "",
       "arguments": {},
       "columnCustomDisplayInfos": {},
       "data": [
        [
         "stations",
         [
          0
         ],
         200,
         [
          28.6667,
          77.2167
         ],
         1738833763,
         1273294,
         [
          294.01,
          989,
          21,
          1015,
          1015,
          295.2,
          295.2,
          295.2
         ],
         "Delhi",
         [
          "IN",
          9165,
          1738805786,
          1738845240,
          1
         ],
         19800,
         6000,
         [
          [
           "clear sky",
           "01d",
           800,
           "Clear"
          ]
         ],
         [
          300,
          10.29,
          5.14
         ]
        ],
        [
         "stations",
         [
          72
         ],
         200,
         [
          9.9399,
          76.2602
         ],
         1738833530,
         1273874,
         [
          306.54,
          1007,
          58,
          1008,
          1008,
          303.66,
          307.14,
          303.66
         ],
         "Kochi",
         [
          "IN",
          267800,
          1738804607,
          1738846879,
          2
         ],
         19800,
         10000,
         [
          [
           "broken clouds",
           "04d",
           803,
           "Clouds"
          ]
         ],
         [
          270,
          null,
          2.24
         ]
        ],
        [
         "stations",
         [
          20
         ],
         200,
         [
          13.0878,
          80.2785
         ],
         1738833735,
         1264527,
         [
          306.52,
          1009,
          57,
          1010,
          1010,
          303.76,
          305.5,
          303.16
         ],
         "Chennai",
         [
          "IN",
          2093220,
          1738803860,
          1738845696,
          2
         ],
         19800,
         6000,
         [
          [
           "few clouds",
           "02d",
           801,
           "Clouds"
          ]
         ],
         [
          130,
          null,
          3.6
         ]
        ],
        [
         "stations",
         [
          20
         ],
         200,
         [
          17.3753,
          78.4744
         ],
         1738833872,
         1269843,
         [
          303.9,
          947,
          27,
          1010,
          1010,
          305.38,
          306.88,
          305.38
         ],
         "Hyderabad",
         [
          "IN",
          9214,
          1738804599,
          1738845824,
          1
         ],
         19800,
         6000,
         [
          [
           "few clouds",
           "02d",
           801,
           "Clouds"
          ]
         ],
         [
          110,
          null,
          4.63
         ]
        ],
        [
         "stations",
         [
          84
         ],
         200,
         [
          11,
          76.9667
         ],
         1738833294,
         1273865,
         [
          304.04,
          960,
          21,
          1009,
          1009,
          306.03,
          306.03,
          306.03
         ],
         "Coimbatore",
         [
          "IN",
          9206,
          1738804510,
          1738846636,
          1
         ],
         19800,
         6000,
         [
          [
           "broken clouds",
           "04d",
           803,
           "Clouds"
          ]
         ],
         [
          90,
          null,
          6.17
         ]
        ],
        [
         "stations",
         [
          0
         ],
         200,
         [
          12.9762,
          77.6033
         ],
         1738833455,
         1277333,
         [
          300.89,
          913,
          29,
          1010,
          1010,
          302.05,
          302.95,
          300.85
         ],
         "Bengaluru",
         [
          "IN",
          9205,
          1738804494,
          1738846346,
          1
         ],
         19800,
         10000,
         [
          [
           "clear sky",
           "01d",
           800,
           "Clear"
          ]
         ],
         [
          70,
          null,
          5.14
         ]
        ],
        [
         "stations",
         [
          0
         ],
         200,
         [
          26.9167,
          75.8167
         ],
         1738833903,
         1269515,
         [
          295.71,
          968,
          20,
          1016,
          1016,
          296.77,
          296.77,
          296.77
         ],
         "Jaipur",
         [
          "IN",
          9170,
          1738805974,
          1738845724,
          1
         ],
         19800,
         6000,
         [
          [
           "clear sky",
           "01d",
           800,
           "Clear"
          ]
         ],
         [
          320,
          null,
          4.12
         ]
        ],
        [
         "stations",
         [
          0
         ],
         200,
         [
          23.0333,
          72.6167
         ],
         1738833726,
         1279233,
         [
          299.28,
          1008,
          21,
          1013,
          1013,
          300.17,
          300.17,
          300.17
         ],
         "Ahmedabad",
         [
          "IN",
          9049,
          1738806429,
          1738846805,
          1
         ],
         19800,
         4000,
         [
          [
           "smoke",
           "50d",
           711,
           "Smoke"
          ]
         ],
         [
          30,
          null,
          6.69
         ]
        ],
        [
         "stations",
         [
          20
         ],
         200,
         [
          23.2667,
          77.4
         ],
         1738833909,
         1275841,
         [
          294.28,
          957,
          28,
          1014,
          1014,
          295.28,
          295.28,
          295.28
         ],
         "Bhopal",
         [
          "IN",
          9063,
          1738805300,
          1738845638,
          1
         ],
         19800,
         6000,
         [
          [
           "few clouds",
           "02d",
           801,
           "Clouds"
          ]
         ],
         [
          20,
          null,
          6.17
         ]
        ],
        [
         "stations",
         [
          0
         ],
         200,
         [
          22.7179,
          75.8333
         ],
         1738833862,
         1269743,
         [
          295.48,
          950,
          33,
          1014,
          1014,
          296.25,
          296.25,
          296.25
         ],
         "Indore",
         [
          "IN",
          9067,
          1738805633,
          1738846057,
          1
         ],
         19800,
         6000,
         [
          [
           "clear sky",
           "01d",
           800,
           "Clear"
          ]
         ],
         [
          70,
          null,
          6.17
         ]
        ],
        [
         "stations",
         [
          20
         ],
         200,
         [
          22.5697,
          88.3697
         ],
         1738833902,
         1275004,
         [
          302.69,
          1008,
          39,
          1009,
          1009,
          303.12,
          303.12,
          303.12
         ],
         "Kolkata",
         [
          "IN",
          9114,
          1738802614,
          1738843058,
          1
         ],
         19800,
         4500,
         [
          [
           "haze",
           "50d",
           721,
           "Haze"
          ]
         ],
         [
          350,
          null,
          3.09
         ]
        ],
        [
         "stations",
         [
          0
         ],
         200,
         [
          19.0144,
          72.8479
         ],
         1738833401,
         1275339,
         [
          304.35,
          1008,
          42,
          1009,
          1009,
          304.14,
          304.14,
          302.09
         ],
         "Mumbai",
         [
          "IN",
          9052,
          1738806069,
          1738847054,
          1
         ],
         19800,
         3000,
         [
          [
           "smoke",
           "50d",
           711,
           "Smoke"
          ]
         ],
         [
          280,
          null,
          4.12
         ]
        ],
        [
         "stations",
         [
          0
         ],
         200,
         [
          25.6,
          85.1167
         ],
         1738833909,
         1260086,
         [
          296.37,
          1005,
          31,
          1011,
          1011,
          297.11,
          297.11,
          297.11
         ],
         "Patna",
         [
          "IN",
          9129,
          1738803635,
          1738843599,
          1
         ],
         19800,
         6000,
         [
          [
           "clear sky",
           "01d",
           800,
           "Clear"
          ]
         ],
         [
          280,
          null,
          5.66
         ]
        ],
        [
         "stations",
         [
          0
         ],
         200,
         [
          21.1667,
          72.8333
         ],
         1738833714,
         1255364,
         [
          302.87,
          1009,
          30,
          1010,
          1010,
          304.14,
          304.14,
          304.14
         ],
         "Surat",
         [
          "IN",
          9071,
          1738806234,
          1738846896,
          1
         ],
         19800,
         5000,
         [
          [
           "smoke",
           "50d",
           711,
           "Smoke"
          ]
         ],
         [
          30,
          null,
          6.17
         ]
        ],
        [
         "stations",
         [
          0
         ],
         200,
         [
          22.3,
          73.2
         ],
         1738833783,
         1253573,
         [
          300.9,
          1008,
          28,
          1012,
          1012,
          302.13,
          302.13,
          302.13
         ],
         "Vadodara",
         [
          "IN",
          9060,
          1738806233,
          1738846722,
          1
         ],
         19800,
         6000,
         [
          [
           "clear sky",
           "01d",
           800,
           "Clear"
          ]
         ],
         [
          40,
          null,
          5.66
         ]
        ],
        [
         "stations",
         [
          0
         ],
         200,
         [
          26.85,
          80.9167
         ],
         1738833616,
         1264733,
         [
          296.25,
          998,
          25,
          1013,
          1013,
          297.14,
          297.14,
          297.14
         ],
         "Lucknow",
         [
          "IN",
          9176,
          1738804745,
          1738844505,
          1
         ],
         19800,
         5000,
         [
          [
           "haze",
           "50d",
           721,
           "Haze"
          ]
         ],
         [
          290,
          null,
          7.2
         ]
        ],
        [
         "stations",
         [
          0
         ],
         200,
         [
          26.4667,
          80.35
         ],
         1738833907,
         1267995,
         [
          296.64,
          999,
          17,
          1014,
          1014,
          297.69,
          297.69,
          297.69
         ],
         "Kanpur",
         [
          "IN",
          null,
          1738804849,
          1738844673,
          null
         ],
         19800,
         10000,
         [
          [
           "clear sky",
           "01d",
           800,
           "Clear"
          ]
         ],
         [
          300,
          8.06,
          6.77
         ]
        ],
        [
         "stations",
         [
          0
         ],
         200,
         [
          21.15,
          79.1
         ],
         1738833903,
         1262180,
         [
          300.92,
          977,
          28,
          1011,
          1011,
          302.16,
          302.16,
          302.16
         ],
         "Nagpur",
         [
          "IN",
          9069,
          1738804729,
          1738845393,
          1
         ],
         19800,
         5000,
         [
          [
           "haze",
           "50d",
           721,
           "Haze"
          ]
         ],
         [
          20,
          null,
          2.57
         ]
        ],
        [
         "stations",
         [
          1
         ],
         200,
         [
          18.5196,
          73.8553
         ],
         1738833200,
         1259229,
         [
          303,
          938,
          24,
          1010,
          1010,
          304.76,
          304.76,
          304.76
         ],
         "Pune",
         [
          "IN",
          null,
          1738805791,
          1738846849,
          null
         ],
         19800,
         10000,
         [
          [
           "clear sky",
           "01d",
           800,
           "Clear"
          ]
         ],
         [
          121,
          4.12,
          3.78
         ]
        ]
       ],
       "datasetInfos": [],
       "dbfsResultPath": null,
       "isJsonSchema": true,
       "metadata": {},
       "overflow": false,
       "plotOptions": {
        "customPlotOptions": {},
        "displayType": "table",
        "pivotAggregation": null,
        "pivotColumns": null,
        "xColumns": null,
        "yColumns": null
       },
       "removedWidgets": [],
       "schema": [
        {
         "metadata": "{}",
         "name": "base",
         "type": "\"string\""
        },
        {
         "metadata": "{}",
         "name": "clouds",
         "type": "{\"type\":\"struct\",\"fields\":[{\"name\":\"all\",\"type\":\"long\",\"nullable\":true,\"metadata\":{}}]}"
        },
        {
         "metadata": "{}",
         "name": "cod",
         "type": "\"long\""
        },
        {
         "metadata": "{}",
         "name": "coord",
         "type": "{\"type\":\"struct\",\"fields\":[{\"name\":\"lat\",\"type\":\"double\",\"nullable\":true,\"metadata\":{}},{\"name\":\"lon\",\"type\":\"double\",\"nullable\":true,\"metadata\":{}}]}"
        },
        {
         "metadata": "{}",
         "name": "dt",
         "type": "\"long\""
        },
        {
         "metadata": "{}",
         "name": "id",
         "type": "\"long\""
        },
        {
         "metadata": "{}",
         "name": "main",
         "type": "{\"type\":\"struct\",\"fields\":[{\"name\":\"feels_like\",\"type\":\"double\",\"nullable\":true,\"metadata\":{}},{\"name\":\"grnd_level\",\"type\":\"long\",\"nullable\":true,\"metadata\":{}},{\"name\":\"humidity\",\"type\":\"long\",\"nullable\":true,\"metadata\":{}},{\"name\":\"pressure\",\"type\":\"long\",\"nullable\":true,\"metadata\":{}},{\"name\":\"sea_level\",\"type\":\"long\",\"nullable\":true,\"metadata\":{}},{\"name\":\"temp\",\"type\":\"double\",\"nullable\":true,\"metadata\":{}},{\"name\":\"temp_max\",\"type\":\"double\",\"nullable\":true,\"metadata\":{}},{\"name\":\"temp_min\",\"type\":\"double\",\"nullable\":true,\"metadata\":{}}]}"
        },
        {
         "metadata": "{}",
         "name": "name",
         "type": "\"string\""
        },
        {
         "metadata": "{}",
         "name": "sys",
         "type": "{\"type\":\"struct\",\"fields\":[{\"name\":\"country\",\"type\":\"string\",\"nullable\":true,\"metadata\":{}},{\"name\":\"id\",\"type\":\"long\",\"nullable\":true,\"metadata\":{}},{\"name\":\"sunrise\",\"type\":\"long\",\"nullable\":true,\"metadata\":{}},{\"name\":\"sunset\",\"type\":\"long\",\"nullable\":true,\"metadata\":{}},{\"name\":\"type\",\"type\":\"long\",\"nullable\":true,\"metadata\":{}}]}"
        },
        {
         "metadata": "{}",
         "name": "timezone",
         "type": "\"long\""
        },
        {
         "metadata": "{}",
         "name": "visibility",
         "type": "\"long\""
        },
        {
         "metadata": "{}",
         "name": "weather",
         "type": "{\"type\":\"array\",\"elementType\":{\"type\":\"struct\",\"fields\":[{\"name\":\"description\",\"type\":\"string\",\"nullable\":true,\"metadata\":{}},{\"name\":\"icon\",\"type\":\"string\",\"nullable\":true,\"metadata\":{}},{\"name\":\"id\",\"type\":\"long\",\"nullable\":true,\"metadata\":{}},{\"name\":\"main\",\"type\":\"string\",\"nullable\":true,\"metadata\":{}}]},\"containsNull\":true}"
        },
        {
         "metadata": "{}",
         "name": "wind",
         "type": "{\"type\":\"struct\",\"fields\":[{\"name\":\"deg\",\"type\":\"long\",\"nullable\":true,\"metadata\":{}},{\"name\":\"gust\",\"type\":\"double\",\"nullable\":true,\"metadata\":{}},{\"name\":\"speed\",\"type\":\"double\",\"nullable\":true,\"metadata\":{}}]}"
        }
       ],
       "type": "table"
      }
     },
     "output_type": "display_data"
    }
   ],
   "source": [
    "display(df)"
   ]
  },
  {
   "cell_type": "code",
   "execution_count": null,
   "metadata": {
    "application/vnd.databricks.v1+cell": {
     "cellMetadata": {
      "byteLimit": 2048000,
      "rowLimit": 10000
     },
     "inputWidgets": {},
     "nuid": "0081cd68-bb79-4123-9753-6444a79df615",
     "showTitle": false,
     "tableResultSettingsMap": {},
     "title": ""
    }
   },
   "outputs": [],
   "source": [
    "from pyspark.sql.functions import col, explode\n",
    "\n",
    "df_flattened = df.withColumn(\"clouds_all\", col(\"clouds.all\"))\n",
    "\n",
    "df_flattened = df_flattened.withColumn(\"coord_lat\", col(\"coord.lat\")).withColumn(\"coord_lon\", col(\"coord.lon\"))\n",
    "\n",
    "df_flattened = df_flattened.withColumn(\"main_feels_like\", col(\"main.feels_like\")) \\\n",
    "                           .withColumn(\"main_grnd_level\", col(\"main.grnd_level\")) \\\n",
    "                           .withColumn(\"main_humidity\", col(\"main.humidity\")) \\\n",
    "                           .withColumn(\"main_pressure\", col(\"main.pressure\")) \\\n",
    "                           .withColumn(\"main_sea_level\", col(\"main.sea_level\")) \\\n",
    "                           .withColumn(\"main_temp\", col(\"main.temp\")) \\\n",
    "                           .withColumn(\"main_temp_max\", col(\"main.temp_max\")) \\\n",
    "                           .withColumn(\"main_temp_min\", col(\"main.temp_min\"))\n",
    "\n",
    "df_flattened = df_flattened.withColumn(\"sys_country\", col(\"sys.country\")) \\\n",
    "                           .withColumn(\"sys_id\", col(\"sys.id\")) \\\n",
    "                           .withColumn(\"sys_sunrise\", col(\"sys.sunrise\")) \\\n",
    "                           .withColumn(\"sys_sunset\", col(\"sys.sunset\")) \\\n",
    "                           .withColumn(\"sys_type\", col(\"sys.type\"))\n",
    "\n",
    "df_flattened = df_flattened.withColumn(\"weather_0_description\", col(\"weather\")[0][\"description\"]) \\\n",
    "                           .withColumn(\"weather_0_icon\", col(\"weather\")[0][\"icon\"]) \\\n",
    "                           .withColumn(\"weather_0_id\", col(\"weather\")[0][\"id\"]) \\\n",
    "                           .withColumn(\"weather_0_main\", col(\"weather\")[0][\"main\"])\n",
    "\n",
    "df_flattened = df_flattened.withColumn(\"wind_deg\", col(\"wind.deg\")) \\\n",
    "                           .withColumn(\"wind_gust\", col(\"wind.gust\")) \\\n",
    "                           .withColumn(\"wind_speed\", col(\"wind.speed\"))\n",
    "\n",
    "df_final = df_flattened.select(\n",
    "    \"base\", \"clouds_all\", \"cod\", \"coord_lat\", \"coord_lon\", \"dt\", \"id\", \"main_feels_like\", \"main_grnd_level\",\n",
    "    \"main_humidity\", \"main_pressure\", \"main_sea_level\", \"main_temp\", \"main_temp_max\", \"main_temp_min\", \"name\",\n",
    "    \"sys_country\", \"sys_id\", \"sys_sunrise\", \"sys_sunset\", \"sys_type\", \"timezone\", \"visibility\",\n",
    "    \"weather_0_description\", \"weather_0_icon\", \"weather_0_id\", \"weather_0_main\", \"wind_deg\", \"wind_gust\", \"wind_speed\"\n",
    ")\n"
   ]
  },
  {
   "cell_type": "code",
   "execution_count": null,
   "metadata": {
    "application/vnd.databricks.v1+cell": {
     "cellMetadata": {
      "byteLimit": 2048000,
      "rowLimit": 10000
     },
     "inputWidgets": {},
     "nuid": "090e532f-2777-4d54-965b-d3965ec99b9b",
     "showTitle": false,
     "tableResultSettingsMap": {},
     "title": ""
    }
   },
   "outputs": [
    {
     "data": {
      "text/html": [
       "<style scoped>\n",
       "  .table-result-container {\n",
       "    max-height: 300px;\n",
       "    overflow: auto;\n",
       "  }\n",
       "  table, th, td {\n",
       "    border: 1px solid black;\n",
       "    border-collapse: collapse;\n",
       "  }\n",
       "  th, td {\n",
       "    padding: 5px;\n",
       "  }\n",
       "  th {\n",
       "    text-align: left;\n",
       "  }\n",
       "</style><div class='table-result-container'><table class='table-result'><thead style='background-color: white'><tr><th>base</th><th>clouds_all</th><th>cod</th><th>coord_lat</th><th>coord_lon</th><th>dt</th><th>id</th><th>main_feels_like</th><th>main_grnd_level</th><th>main_humidity</th><th>main_pressure</th><th>main_sea_level</th><th>main_temp</th><th>main_temp_max</th><th>main_temp_min</th><th>name</th><th>sys_country</th><th>sys_id</th><th>sys_sunrise</th><th>sys_sunset</th><th>sys_type</th><th>timezone</th><th>visibility</th><th>weather_0_description</th><th>weather_0_icon</th><th>weather_0_id</th><th>weather_0_main</th><th>wind_deg</th><th>wind_gust</th><th>wind_speed</th></tr></thead><tbody><tr><td>stations</td><td>0</td><td>200</td><td>28.6667</td><td>77.2167</td><td>1738833763</td><td>1273294</td><td>294.01</td><td>989</td><td>21</td><td>1015</td><td>1015</td><td>295.2</td><td>295.2</td><td>295.2</td><td>Delhi</td><td>IN</td><td>9165</td><td>1738805786</td><td>1738845240</td><td>1</td><td>19800</td><td>6000</td><td>clear sky</td><td>01d</td><td>800</td><td>Clear</td><td>300</td><td>10.29</td><td>5.14</td></tr><tr><td>stations</td><td>72</td><td>200</td><td>9.9399</td><td>76.2602</td><td>1738833530</td><td>1273874</td><td>306.54</td><td>1007</td><td>58</td><td>1008</td><td>1008</td><td>303.66</td><td>307.14</td><td>303.66</td><td>Kochi</td><td>IN</td><td>267800</td><td>1738804607</td><td>1738846879</td><td>2</td><td>19800</td><td>10000</td><td>broken clouds</td><td>04d</td><td>803</td><td>Clouds</td><td>270</td><td>null</td><td>2.24</td></tr><tr><td>stations</td><td>20</td><td>200</td><td>13.0878</td><td>80.2785</td><td>1738833735</td><td>1264527</td><td>306.52</td><td>1009</td><td>57</td><td>1010</td><td>1010</td><td>303.76</td><td>305.5</td><td>303.16</td><td>Chennai</td><td>IN</td><td>2093220</td><td>1738803860</td><td>1738845696</td><td>2</td><td>19800</td><td>6000</td><td>few clouds</td><td>02d</td><td>801</td><td>Clouds</td><td>130</td><td>null</td><td>3.6</td></tr><tr><td>stations</td><td>20</td><td>200</td><td>17.3753</td><td>78.4744</td><td>1738833872</td><td>1269843</td><td>303.9</td><td>947</td><td>27</td><td>1010</td><td>1010</td><td>305.38</td><td>306.88</td><td>305.38</td><td>Hyderabad</td><td>IN</td><td>9214</td><td>1738804599</td><td>1738845824</td><td>1</td><td>19800</td><td>6000</td><td>few clouds</td><td>02d</td><td>801</td><td>Clouds</td><td>110</td><td>null</td><td>4.63</td></tr><tr><td>stations</td><td>84</td><td>200</td><td>11.0</td><td>76.9667</td><td>1738833294</td><td>1273865</td><td>304.04</td><td>960</td><td>21</td><td>1009</td><td>1009</td><td>306.03</td><td>306.03</td><td>306.03</td><td>Coimbatore</td><td>IN</td><td>9206</td><td>1738804510</td><td>1738846636</td><td>1</td><td>19800</td><td>6000</td><td>broken clouds</td><td>04d</td><td>803</td><td>Clouds</td><td>90</td><td>null</td><td>6.17</td></tr><tr><td>stations</td><td>0</td><td>200</td><td>12.9762</td><td>77.6033</td><td>1738833455</td><td>1277333</td><td>300.89</td><td>913</td><td>29</td><td>1010</td><td>1010</td><td>302.05</td><td>302.95</td><td>300.85</td><td>Bengaluru</td><td>IN</td><td>9205</td><td>1738804494</td><td>1738846346</td><td>1</td><td>19800</td><td>10000</td><td>clear sky</td><td>01d</td><td>800</td><td>Clear</td><td>70</td><td>null</td><td>5.14</td></tr><tr><td>stations</td><td>0</td><td>200</td><td>26.9167</td><td>75.8167</td><td>1738833903</td><td>1269515</td><td>295.71</td><td>968</td><td>20</td><td>1016</td><td>1016</td><td>296.77</td><td>296.77</td><td>296.77</td><td>Jaipur</td><td>IN</td><td>9170</td><td>1738805974</td><td>1738845724</td><td>1</td><td>19800</td><td>6000</td><td>clear sky</td><td>01d</td><td>800</td><td>Clear</td><td>320</td><td>null</td><td>4.12</td></tr><tr><td>stations</td><td>0</td><td>200</td><td>23.0333</td><td>72.6167</td><td>1738833726</td><td>1279233</td><td>299.28</td><td>1008</td><td>21</td><td>1013</td><td>1013</td><td>300.17</td><td>300.17</td><td>300.17</td><td>Ahmedabad</td><td>IN</td><td>9049</td><td>1738806429</td><td>1738846805</td><td>1</td><td>19800</td><td>4000</td><td>smoke</td><td>50d</td><td>711</td><td>Smoke</td><td>30</td><td>null</td><td>6.69</td></tr><tr><td>stations</td><td>20</td><td>200</td><td>23.2667</td><td>77.4</td><td>1738833909</td><td>1275841</td><td>294.28</td><td>957</td><td>28</td><td>1014</td><td>1014</td><td>295.28</td><td>295.28</td><td>295.28</td><td>Bhopal</td><td>IN</td><td>9063</td><td>1738805300</td><td>1738845638</td><td>1</td><td>19800</td><td>6000</td><td>few clouds</td><td>02d</td><td>801</td><td>Clouds</td><td>20</td><td>null</td><td>6.17</td></tr><tr><td>stations</td><td>0</td><td>200</td><td>22.7179</td><td>75.8333</td><td>1738833862</td><td>1269743</td><td>295.48</td><td>950</td><td>33</td><td>1014</td><td>1014</td><td>296.25</td><td>296.25</td><td>296.25</td><td>Indore</td><td>IN</td><td>9067</td><td>1738805633</td><td>1738846057</td><td>1</td><td>19800</td><td>6000</td><td>clear sky</td><td>01d</td><td>800</td><td>Clear</td><td>70</td><td>null</td><td>6.17</td></tr><tr><td>stations</td><td>20</td><td>200</td><td>22.5697</td><td>88.3697</td><td>1738833902</td><td>1275004</td><td>302.69</td><td>1008</td><td>39</td><td>1009</td><td>1009</td><td>303.12</td><td>303.12</td><td>303.12</td><td>Kolkata</td><td>IN</td><td>9114</td><td>1738802614</td><td>1738843058</td><td>1</td><td>19800</td><td>4500</td><td>haze</td><td>50d</td><td>721</td><td>Haze</td><td>350</td><td>null</td><td>3.09</td></tr><tr><td>stations</td><td>0</td><td>200</td><td>19.0144</td><td>72.8479</td><td>1738833401</td><td>1275339</td><td>304.35</td><td>1008</td><td>42</td><td>1009</td><td>1009</td><td>304.14</td><td>304.14</td><td>302.09</td><td>Mumbai</td><td>IN</td><td>9052</td><td>1738806069</td><td>1738847054</td><td>1</td><td>19800</td><td>3000</td><td>smoke</td><td>50d</td><td>711</td><td>Smoke</td><td>280</td><td>null</td><td>4.12</td></tr><tr><td>stations</td><td>0</td><td>200</td><td>25.6</td><td>85.1167</td><td>1738833909</td><td>1260086</td><td>296.37</td><td>1005</td><td>31</td><td>1011</td><td>1011</td><td>297.11</td><td>297.11</td><td>297.11</td><td>Patna</td><td>IN</td><td>9129</td><td>1738803635</td><td>1738843599</td><td>1</td><td>19800</td><td>6000</td><td>clear sky</td><td>01d</td><td>800</td><td>Clear</td><td>280</td><td>null</td><td>5.66</td></tr><tr><td>stations</td><td>0</td><td>200</td><td>21.1667</td><td>72.8333</td><td>1738833714</td><td>1255364</td><td>302.87</td><td>1009</td><td>30</td><td>1010</td><td>1010</td><td>304.14</td><td>304.14</td><td>304.14</td><td>Surat</td><td>IN</td><td>9071</td><td>1738806234</td><td>1738846896</td><td>1</td><td>19800</td><td>5000</td><td>smoke</td><td>50d</td><td>711</td><td>Smoke</td><td>30</td><td>null</td><td>6.17</td></tr><tr><td>stations</td><td>0</td><td>200</td><td>22.3</td><td>73.2</td><td>1738833783</td><td>1253573</td><td>300.9</td><td>1008</td><td>28</td><td>1012</td><td>1012</td><td>302.13</td><td>302.13</td><td>302.13</td><td>Vadodara</td><td>IN</td><td>9060</td><td>1738806233</td><td>1738846722</td><td>1</td><td>19800</td><td>6000</td><td>clear sky</td><td>01d</td><td>800</td><td>Clear</td><td>40</td><td>null</td><td>5.66</td></tr><tr><td>stations</td><td>0</td><td>200</td><td>26.85</td><td>80.9167</td><td>1738833616</td><td>1264733</td><td>296.25</td><td>998</td><td>25</td><td>1013</td><td>1013</td><td>297.14</td><td>297.14</td><td>297.14</td><td>Lucknow</td><td>IN</td><td>9176</td><td>1738804745</td><td>1738844505</td><td>1</td><td>19800</td><td>5000</td><td>haze</td><td>50d</td><td>721</td><td>Haze</td><td>290</td><td>null</td><td>7.2</td></tr><tr><td>stations</td><td>0</td><td>200</td><td>26.4667</td><td>80.35</td><td>1738833907</td><td>1267995</td><td>296.64</td><td>999</td><td>17</td><td>1014</td><td>1014</td><td>297.69</td><td>297.69</td><td>297.69</td><td>Kanpur</td><td>IN</td><td>null</td><td>1738804849</td><td>1738844673</td><td>null</td><td>19800</td><td>10000</td><td>clear sky</td><td>01d</td><td>800</td><td>Clear</td><td>300</td><td>8.06</td><td>6.77</td></tr><tr><td>stations</td><td>0</td><td>200</td><td>21.15</td><td>79.1</td><td>1738833903</td><td>1262180</td><td>300.92</td><td>977</td><td>28</td><td>1011</td><td>1011</td><td>302.16</td><td>302.16</td><td>302.16</td><td>Nagpur</td><td>IN</td><td>9069</td><td>1738804729</td><td>1738845393</td><td>1</td><td>19800</td><td>5000</td><td>haze</td><td>50d</td><td>721</td><td>Haze</td><td>20</td><td>null</td><td>2.57</td></tr><tr><td>stations</td><td>1</td><td>200</td><td>18.5196</td><td>73.8553</td><td>1738833200</td><td>1259229</td><td>303.0</td><td>938</td><td>24</td><td>1010</td><td>1010</td><td>304.76</td><td>304.76</td><td>304.76</td><td>Pune</td><td>IN</td><td>null</td><td>1738805791</td><td>1738846849</td><td>null</td><td>19800</td><td>10000</td><td>clear sky</td><td>01d</td><td>800</td><td>Clear</td><td>121</td><td>4.12</td><td>3.78</td></tr></tbody></table></div>"
      ]
     },
     "metadata": {
      "application/vnd.databricks.v1+output": {
       "addedWidgets": {},
       "aggData": [],
       "aggError": "",
       "aggOverflow": false,
       "aggSchema": [],
       "aggSeriesLimitReached": false,
       "aggType": "",
       "arguments": {},
       "columnCustomDisplayInfos": {},
       "data": [
        [
         "stations",
         0,
         200,
         28.6667,
         77.2167,
         1738833763,
         1273294,
         294.01,
         989,
         21,
         1015,
         1015,
         295.2,
         295.2,
         295.2,
         "Delhi",
         "IN",
         9165,
         1738805786,
         1738845240,
         1,
         19800,
         6000,
         "clear sky",
         "01d",
         800,
         "Clear",
         300,
         10.29,
         5.14
        ],
        [
         "stations",
         72,
         200,
         9.9399,
         76.2602,
         1738833530,
         1273874,
         306.54,
         1007,
         58,
         1008,
         1008,
         303.66,
         307.14,
         303.66,
         "Kochi",
         "IN",
         267800,
         1738804607,
         1738846879,
         2,
         19800,
         10000,
         "broken clouds",
         "04d",
         803,
         "Clouds",
         270,
         null,
         2.24
        ],
        [
         "stations",
         20,
         200,
         13.0878,
         80.2785,
         1738833735,
         1264527,
         306.52,
         1009,
         57,
         1010,
         1010,
         303.76,
         305.5,
         303.16,
         "Chennai",
         "IN",
         2093220,
         1738803860,
         1738845696,
         2,
         19800,
         6000,
         "few clouds",
         "02d",
         801,
         "Clouds",
         130,
         null,
         3.6
        ],
        [
         "stations",
         20,
         200,
         17.3753,
         78.4744,
         1738833872,
         1269843,
         303.9,
         947,
         27,
         1010,
         1010,
         305.38,
         306.88,
         305.38,
         "Hyderabad",
         "IN",
         9214,
         1738804599,
         1738845824,
         1,
         19800,
         6000,
         "few clouds",
         "02d",
         801,
         "Clouds",
         110,
         null,
         4.63
        ],
        [
         "stations",
         84,
         200,
         11,
         76.9667,
         1738833294,
         1273865,
         304.04,
         960,
         21,
         1009,
         1009,
         306.03,
         306.03,
         306.03,
         "Coimbatore",
         "IN",
         9206,
         1738804510,
         1738846636,
         1,
         19800,
         6000,
         "broken clouds",
         "04d",
         803,
         "Clouds",
         90,
         null,
         6.17
        ],
        [
         "stations",
         0,
         200,
         12.9762,
         77.6033,
         1738833455,
         1277333,
         300.89,
         913,
         29,
         1010,
         1010,
         302.05,
         302.95,
         300.85,
         "Bengaluru",
         "IN",
         9205,
         1738804494,
         1738846346,
         1,
         19800,
         10000,
         "clear sky",
         "01d",
         800,
         "Clear",
         70,
         null,
         5.14
        ],
        [
         "stations",
         0,
         200,
         26.9167,
         75.8167,
         1738833903,
         1269515,
         295.71,
         968,
         20,
         1016,
         1016,
         296.77,
         296.77,
         296.77,
         "Jaipur",
         "IN",
         9170,
         1738805974,
         1738845724,
         1,
         19800,
         6000,
         "clear sky",
         "01d",
         800,
         "Clear",
         320,
         null,
         4.12
        ],
        [
         "stations",
         0,
         200,
         23.0333,
         72.6167,
         1738833726,
         1279233,
         299.28,
         1008,
         21,
         1013,
         1013,
         300.17,
         300.17,
         300.17,
         "Ahmedabad",
         "IN",
         9049,
         1738806429,
         1738846805,
         1,
         19800,
         4000,
         "smoke",
         "50d",
         711,
         "Smoke",
         30,
         null,
         6.69
        ],
        [
         "stations",
         20,
         200,
         23.2667,
         77.4,
         1738833909,
         1275841,
         294.28,
         957,
         28,
         1014,
         1014,
         295.28,
         295.28,
         295.28,
         "Bhopal",
         "IN",
         9063,
         1738805300,
         1738845638,
         1,
         19800,
         6000,
         "few clouds",
         "02d",
         801,
         "Clouds",
         20,
         null,
         6.17
        ],
        [
         "stations",
         0,
         200,
         22.7179,
         75.8333,
         1738833862,
         1269743,
         295.48,
         950,
         33,
         1014,
         1014,
         296.25,
         296.25,
         296.25,
         "Indore",
         "IN",
         9067,
         1738805633,
         1738846057,
         1,
         19800,
         6000,
         "clear sky",
         "01d",
         800,
         "Clear",
         70,
         null,
         6.17
        ],
        [
         "stations",
         20,
         200,
         22.5697,
         88.3697,
         1738833902,
         1275004,
         302.69,
         1008,
         39,
         1009,
         1009,
         303.12,
         303.12,
         303.12,
         "Kolkata",
         "IN",
         9114,
         1738802614,
         1738843058,
         1,
         19800,
         4500,
         "haze",
         "50d",
         721,
         "Haze",
         350,
         null,
         3.09
        ],
        [
         "stations",
         0,
         200,
         19.0144,
         72.8479,
         1738833401,
         1275339,
         304.35,
         1008,
         42,
         1009,
         1009,
         304.14,
         304.14,
         302.09,
         "Mumbai",
         "IN",
         9052,
         1738806069,
         1738847054,
         1,
         19800,
         3000,
         "smoke",
         "50d",
         711,
         "Smoke",
         280,
         null,
         4.12
        ],
        [
         "stations",
         0,
         200,
         25.6,
         85.1167,
         1738833909,
         1260086,
         296.37,
         1005,
         31,
         1011,
         1011,
         297.11,
         297.11,
         297.11,
         "Patna",
         "IN",
         9129,
         1738803635,
         1738843599,
         1,
         19800,
         6000,
         "clear sky",
         "01d",
         800,
         "Clear",
         280,
         null,
         5.66
        ],
        [
         "stations",
         0,
         200,
         21.1667,
         72.8333,
         1738833714,
         1255364,
         302.87,
         1009,
         30,
         1010,
         1010,
         304.14,
         304.14,
         304.14,
         "Surat",
         "IN",
         9071,
         1738806234,
         1738846896,
         1,
         19800,
         5000,
         "smoke",
         "50d",
         711,
         "Smoke",
         30,
         null,
         6.17
        ],
        [
         "stations",
         0,
         200,
         22.3,
         73.2,
         1738833783,
         1253573,
         300.9,
         1008,
         28,
         1012,
         1012,
         302.13,
         302.13,
         302.13,
         "Vadodara",
         "IN",
         9060,
         1738806233,
         1738846722,
         1,
         19800,
         6000,
         "clear sky",
         "01d",
         800,
         "Clear",
         40,
         null,
         5.66
        ],
        [
         "stations",
         0,
         200,
         26.85,
         80.9167,
         1738833616,
         1264733,
         296.25,
         998,
         25,
         1013,
         1013,
         297.14,
         297.14,
         297.14,
         "Lucknow",
         "IN",
         9176,
         1738804745,
         1738844505,
         1,
         19800,
         5000,
         "haze",
         "50d",
         721,
         "Haze",
         290,
         null,
         7.2
        ],
        [
         "stations",
         0,
         200,
         26.4667,
         80.35,
         1738833907,
         1267995,
         296.64,
         999,
         17,
         1014,
         1014,
         297.69,
         297.69,
         297.69,
         "Kanpur",
         "IN",
         null,
         1738804849,
         1738844673,
         null,
         19800,
         10000,
         "clear sky",
         "01d",
         800,
         "Clear",
         300,
         8.06,
         6.77
        ],
        [
         "stations",
         0,
         200,
         21.15,
         79.1,
         1738833903,
         1262180,
         300.92,
         977,
         28,
         1011,
         1011,
         302.16,
         302.16,
         302.16,
         "Nagpur",
         "IN",
         9069,
         1738804729,
         1738845393,
         1,
         19800,
         5000,
         "haze",
         "50d",
         721,
         "Haze",
         20,
         null,
         2.57
        ],
        [
         "stations",
         1,
         200,
         18.5196,
         73.8553,
         1738833200,
         1259229,
         303,
         938,
         24,
         1010,
         1010,
         304.76,
         304.76,
         304.76,
         "Pune",
         "IN",
         null,
         1738805791,
         1738846849,
         null,
         19800,
         10000,
         "clear sky",
         "01d",
         800,
         "Clear",
         121,
         4.12,
         3.78
        ]
       ],
       "datasetInfos": [],
       "dbfsResultPath": null,
       "isJsonSchema": true,
       "metadata": {},
       "overflow": false,
       "plotOptions": {
        "customPlotOptions": {},
        "displayType": "table",
        "pivotAggregation": null,
        "pivotColumns": null,
        "xColumns": null,
        "yColumns": null
       },
       "removedWidgets": [],
       "schema": [
        {
         "metadata": "{}",
         "name": "base",
         "type": "\"string\""
        },
        {
         "metadata": "{}",
         "name": "clouds_all",
         "type": "\"long\""
        },
        {
         "metadata": "{}",
         "name": "cod",
         "type": "\"long\""
        },
        {
         "metadata": "{}",
         "name": "coord_lat",
         "type": "\"double\""
        },
        {
         "metadata": "{}",
         "name": "coord_lon",
         "type": "\"double\""
        },
        {
         "metadata": "{}",
         "name": "dt",
         "type": "\"long\""
        },
        {
         "metadata": "{}",
         "name": "id",
         "type": "\"long\""
        },
        {
         "metadata": "{}",
         "name": "main_feels_like",
         "type": "\"double\""
        },
        {
         "metadata": "{}",
         "name": "main_grnd_level",
         "type": "\"long\""
        },
        {
         "metadata": "{}",
         "name": "main_humidity",
         "type": "\"long\""
        },
        {
         "metadata": "{}",
         "name": "main_pressure",
         "type": "\"long\""
        },
        {
         "metadata": "{}",
         "name": "main_sea_level",
         "type": "\"long\""
        },
        {
         "metadata": "{}",
         "name": "main_temp",
         "type": "\"double\""
        },
        {
         "metadata": "{}",
         "name": "main_temp_max",
         "type": "\"double\""
        },
        {
         "metadata": "{}",
         "name": "main_temp_min",
         "type": "\"double\""
        },
        {
         "metadata": "{}",
         "name": "name",
         "type": "\"string\""
        },
        {
         "metadata": "{}",
         "name": "sys_country",
         "type": "\"string\""
        },
        {
         "metadata": "{}",
         "name": "sys_id",
         "type": "\"long\""
        },
        {
         "metadata": "{}",
         "name": "sys_sunrise",
         "type": "\"long\""
        },
        {
         "metadata": "{}",
         "name": "sys_sunset",
         "type": "\"long\""
        },
        {
         "metadata": "{}",
         "name": "sys_type",
         "type": "\"long\""
        },
        {
         "metadata": "{}",
         "name": "timezone",
         "type": "\"long\""
        },
        {
         "metadata": "{}",
         "name": "visibility",
         "type": "\"long\""
        },
        {
         "metadata": "{}",
         "name": "weather_0_description",
         "type": "\"string\""
        },
        {
         "metadata": "{}",
         "name": "weather_0_icon",
         "type": "\"string\""
        },
        {
         "metadata": "{}",
         "name": "weather_0_id",
         "type": "\"long\""
        },
        {
         "metadata": "{}",
         "name": "weather_0_main",
         "type": "\"string\""
        },
        {
         "metadata": "{}",
         "name": "wind_deg",
         "type": "\"long\""
        },
        {
         "metadata": "{}",
         "name": "wind_gust",
         "type": "\"double\""
        },
        {
         "metadata": "{}",
         "name": "wind_speed",
         "type": "\"double\""
        }
       ],
       "type": "table"
      }
     },
     "output_type": "display_data"
    }
   ],
   "source": [
    "\n",
    "df_final.display()"
   ]
  },
  {
   "cell_type": "code",
   "execution_count": null,
   "metadata": {
    "application/vnd.databricks.v1+cell": {
     "cellMetadata": {
      "byteLimit": 2048000,
      "rowLimit": 10000
     },
     "inputWidgets": {},
     "nuid": "8d729f8c-3f4c-4d33-8388-d43907924d3b",
     "showTitle": false,
     "tableResultSettingsMap": {},
     "title": ""
    }
   },
   "outputs": [],
   "source": [
    "#df_flat = df_flattened.withColumn(\"clouds_all\", col(\"clouds.all\").cast(\"int\"))\n",
    "#df_flat.display()"
   ]
  },
  {
   "cell_type": "code",
   "execution_count": null,
   "metadata": {
    "application/vnd.databricks.v1+cell": {
     "cellMetadata": {
      "byteLimit": 2048000,
      "rowLimit": 10000
     },
     "inputWidgets": {},
     "nuid": "d19d5ee3-f18b-43ac-bcef-1376b7d7c0eb",
     "showTitle": false,
     "tableResultSettingsMap": {},
     "title": ""
    }
   },
   "outputs": [
    {
     "data": {
      "text/html": [
       "<style scoped>\n",
       "  .table-result-container {\n",
       "    max-height: 300px;\n",
       "    overflow: auto;\n",
       "  }\n",
       "  table, th, td {\n",
       "    border: 1px solid black;\n",
       "    border-collapse: collapse;\n",
       "  }\n",
       "  th, td {\n",
       "    padding: 5px;\n",
       "  }\n",
       "  th {\n",
       "    text-align: left;\n",
       "  }\n",
       "</style><div class='table-result-container'><table class='table-result'><thead style='background-color: white'><tr><th>clouds_all</th><th>latitude</th><th>longitude</th><th>main_feels_like</th><th>main_grnd_level</th><th>main_humidity</th><th>main_pressure</th><th>main_sea_level</th><th>main_temp</th><th>main_temp_max</th><th>main_temp_min</th><th>name</th><th>sys_country</th><th>sys_sunrise</th><th>sys_sunset</th><th>visibility</th><th>weather_0_description</th><th>weather_0_main</th><th>wind_deg</th><th>wind_gust</th><th>wind_speed</th></tr></thead><tbody><tr><td>0</td><td>28.6667</td><td>77.2167</td><td>294.01</td><td>989</td><td>21</td><td>1015</td><td>1015</td><td>295.2</td><td>295.2</td><td>295.2</td><td>Delhi</td><td>IN</td><td>1738805786</td><td>1738845240</td><td>6000</td><td>clear sky</td><td>Clear</td><td>300</td><td>10.29</td><td>5.14</td></tr><tr><td>72</td><td>9.9399</td><td>76.2602</td><td>306.54</td><td>1007</td><td>58</td><td>1008</td><td>1008</td><td>303.66</td><td>307.14</td><td>303.66</td><td>Kochi</td><td>IN</td><td>1738804607</td><td>1738846879</td><td>10000</td><td>broken clouds</td><td>Clouds</td><td>270</td><td>null</td><td>2.24</td></tr><tr><td>20</td><td>13.0878</td><td>80.2785</td><td>306.52</td><td>1009</td><td>57</td><td>1010</td><td>1010</td><td>303.76</td><td>305.5</td><td>303.16</td><td>Chennai</td><td>IN</td><td>1738803860</td><td>1738845696</td><td>6000</td><td>few clouds</td><td>Clouds</td><td>130</td><td>null</td><td>3.6</td></tr><tr><td>20</td><td>17.3753</td><td>78.4744</td><td>303.9</td><td>947</td><td>27</td><td>1010</td><td>1010</td><td>305.38</td><td>306.88</td><td>305.38</td><td>Hyderabad</td><td>IN</td><td>1738804599</td><td>1738845824</td><td>6000</td><td>few clouds</td><td>Clouds</td><td>110</td><td>null</td><td>4.63</td></tr><tr><td>84</td><td>11.0</td><td>76.9667</td><td>304.04</td><td>960</td><td>21</td><td>1009</td><td>1009</td><td>306.03</td><td>306.03</td><td>306.03</td><td>Coimbatore</td><td>IN</td><td>1738804510</td><td>1738846636</td><td>6000</td><td>broken clouds</td><td>Clouds</td><td>90</td><td>null</td><td>6.17</td></tr><tr><td>0</td><td>12.9762</td><td>77.6033</td><td>300.89</td><td>913</td><td>29</td><td>1010</td><td>1010</td><td>302.05</td><td>302.95</td><td>300.85</td><td>Bengaluru</td><td>IN</td><td>1738804494</td><td>1738846346</td><td>10000</td><td>clear sky</td><td>Clear</td><td>70</td><td>null</td><td>5.14</td></tr><tr><td>0</td><td>26.9167</td><td>75.8167</td><td>295.71</td><td>968</td><td>20</td><td>1016</td><td>1016</td><td>296.77</td><td>296.77</td><td>296.77</td><td>Jaipur</td><td>IN</td><td>1738805974</td><td>1738845724</td><td>6000</td><td>clear sky</td><td>Clear</td><td>320</td><td>null</td><td>4.12</td></tr><tr><td>0</td><td>23.0333</td><td>72.6167</td><td>299.28</td><td>1008</td><td>21</td><td>1013</td><td>1013</td><td>300.17</td><td>300.17</td><td>300.17</td><td>Ahmedabad</td><td>IN</td><td>1738806429</td><td>1738846805</td><td>4000</td><td>smoke</td><td>Smoke</td><td>30</td><td>null</td><td>6.69</td></tr><tr><td>20</td><td>23.2667</td><td>77.4</td><td>294.28</td><td>957</td><td>28</td><td>1014</td><td>1014</td><td>295.28</td><td>295.28</td><td>295.28</td><td>Bhopal</td><td>IN</td><td>1738805300</td><td>1738845638</td><td>6000</td><td>few clouds</td><td>Clouds</td><td>20</td><td>null</td><td>6.17</td></tr><tr><td>0</td><td>22.7179</td><td>75.8333</td><td>295.48</td><td>950</td><td>33</td><td>1014</td><td>1014</td><td>296.25</td><td>296.25</td><td>296.25</td><td>Indore</td><td>IN</td><td>1738805633</td><td>1738846057</td><td>6000</td><td>clear sky</td><td>Clear</td><td>70</td><td>null</td><td>6.17</td></tr><tr><td>20</td><td>22.5697</td><td>88.3697</td><td>302.69</td><td>1008</td><td>39</td><td>1009</td><td>1009</td><td>303.12</td><td>303.12</td><td>303.12</td><td>Kolkata</td><td>IN</td><td>1738802614</td><td>1738843058</td><td>4500</td><td>haze</td><td>Haze</td><td>350</td><td>null</td><td>3.09</td></tr><tr><td>0</td><td>19.0144</td><td>72.8479</td><td>304.35</td><td>1008</td><td>42</td><td>1009</td><td>1009</td><td>304.14</td><td>304.14</td><td>302.09</td><td>Mumbai</td><td>IN</td><td>1738806069</td><td>1738847054</td><td>3000</td><td>smoke</td><td>Smoke</td><td>280</td><td>null</td><td>4.12</td></tr><tr><td>0</td><td>25.6</td><td>85.1167</td><td>296.37</td><td>1005</td><td>31</td><td>1011</td><td>1011</td><td>297.11</td><td>297.11</td><td>297.11</td><td>Patna</td><td>IN</td><td>1738803635</td><td>1738843599</td><td>6000</td><td>clear sky</td><td>Clear</td><td>280</td><td>null</td><td>5.66</td></tr><tr><td>0</td><td>21.1667</td><td>72.8333</td><td>302.87</td><td>1009</td><td>30</td><td>1010</td><td>1010</td><td>304.14</td><td>304.14</td><td>304.14</td><td>Surat</td><td>IN</td><td>1738806234</td><td>1738846896</td><td>5000</td><td>smoke</td><td>Smoke</td><td>30</td><td>null</td><td>6.17</td></tr><tr><td>0</td><td>22.3</td><td>73.2</td><td>300.9</td><td>1008</td><td>28</td><td>1012</td><td>1012</td><td>302.13</td><td>302.13</td><td>302.13</td><td>Vadodara</td><td>IN</td><td>1738806233</td><td>1738846722</td><td>6000</td><td>clear sky</td><td>Clear</td><td>40</td><td>null</td><td>5.66</td></tr><tr><td>0</td><td>26.85</td><td>80.9167</td><td>296.25</td><td>998</td><td>25</td><td>1013</td><td>1013</td><td>297.14</td><td>297.14</td><td>297.14</td><td>Lucknow</td><td>IN</td><td>1738804745</td><td>1738844505</td><td>5000</td><td>haze</td><td>Haze</td><td>290</td><td>null</td><td>7.2</td></tr><tr><td>0</td><td>26.4667</td><td>80.35</td><td>296.64</td><td>999</td><td>17</td><td>1014</td><td>1014</td><td>297.69</td><td>297.69</td><td>297.69</td><td>Kanpur</td><td>IN</td><td>1738804849</td><td>1738844673</td><td>10000</td><td>clear sky</td><td>Clear</td><td>300</td><td>8.06</td><td>6.77</td></tr><tr><td>0</td><td>21.15</td><td>79.1</td><td>300.92</td><td>977</td><td>28</td><td>1011</td><td>1011</td><td>302.16</td><td>302.16</td><td>302.16</td><td>Nagpur</td><td>IN</td><td>1738804729</td><td>1738845393</td><td>5000</td><td>haze</td><td>Haze</td><td>20</td><td>null</td><td>2.57</td></tr><tr><td>1</td><td>18.5196</td><td>73.8553</td><td>303.0</td><td>938</td><td>24</td><td>1010</td><td>1010</td><td>304.76</td><td>304.76</td><td>304.76</td><td>Pune</td><td>IN</td><td>1738805791</td><td>1738846849</td><td>10000</td><td>clear sky</td><td>Clear</td><td>121</td><td>4.12</td><td>3.78</td></tr></tbody></table></div>"
      ]
     },
     "metadata": {
      "application/vnd.databricks.v1+output": {
       "addedWidgets": {},
       "aggData": [],
       "aggError": "",
       "aggOverflow": false,
       "aggSchema": [],
       "aggSeriesLimitReached": false,
       "aggType": "",
       "arguments": {},
       "columnCustomDisplayInfos": {},
       "data": [
        [
         0,
         28.6667,
         77.2167,
         294.01,
         989,
         21,
         1015,
         1015,
         295.2,
         295.2,
         295.2,
         "Delhi",
         "IN",
         1738805786,
         1738845240,
         6000,
         "clear sky",
         "Clear",
         300,
         10.29,
         5.14
        ],
        [
         72,
         9.9399,
         76.2602,
         306.54,
         1007,
         58,
         1008,
         1008,
         303.66,
         307.14,
         303.66,
         "Kochi",
         "IN",
         1738804607,
         1738846879,
         10000,
         "broken clouds",
         "Clouds",
         270,
         null,
         2.24
        ],
        [
         20,
         13.0878,
         80.2785,
         306.52,
         1009,
         57,
         1010,
         1010,
         303.76,
         305.5,
         303.16,
         "Chennai",
         "IN",
         1738803860,
         1738845696,
         6000,
         "few clouds",
         "Clouds",
         130,
         null,
         3.6
        ],
        [
         20,
         17.3753,
         78.4744,
         303.9,
         947,
         27,
         1010,
         1010,
         305.38,
         306.88,
         305.38,
         "Hyderabad",
         "IN",
         1738804599,
         1738845824,
         6000,
         "few clouds",
         "Clouds",
         110,
         null,
         4.63
        ],
        [
         84,
         11,
         76.9667,
         304.04,
         960,
         21,
         1009,
         1009,
         306.03,
         306.03,
         306.03,
         "Coimbatore",
         "IN",
         1738804510,
         1738846636,
         6000,
         "broken clouds",
         "Clouds",
         90,
         null,
         6.17
        ],
        [
         0,
         12.9762,
         77.6033,
         300.89,
         913,
         29,
         1010,
         1010,
         302.05,
         302.95,
         300.85,
         "Bengaluru",
         "IN",
         1738804494,
         1738846346,
         10000,
         "clear sky",
         "Clear",
         70,
         null,
         5.14
        ],
        [
         0,
         26.9167,
         75.8167,
         295.71,
         968,
         20,
         1016,
         1016,
         296.77,
         296.77,
         296.77,
         "Jaipur",
         "IN",
         1738805974,
         1738845724,
         6000,
         "clear sky",
         "Clear",
         320,
         null,
         4.12
        ],
        [
         0,
         23.0333,
         72.6167,
         299.28,
         1008,
         21,
         1013,
         1013,
         300.17,
         300.17,
         300.17,
         "Ahmedabad",
         "IN",
         1738806429,
         1738846805,
         4000,
         "smoke",
         "Smoke",
         30,
         null,
         6.69
        ],
        [
         20,
         23.2667,
         77.4,
         294.28,
         957,
         28,
         1014,
         1014,
         295.28,
         295.28,
         295.28,
         "Bhopal",
         "IN",
         1738805300,
         1738845638,
         6000,
         "few clouds",
         "Clouds",
         20,
         null,
         6.17
        ],
        [
         0,
         22.7179,
         75.8333,
         295.48,
         950,
         33,
         1014,
         1014,
         296.25,
         296.25,
         296.25,
         "Indore",
         "IN",
         1738805633,
         1738846057,
         6000,
         "clear sky",
         "Clear",
         70,
         null,
         6.17
        ],
        [
         20,
         22.5697,
         88.3697,
         302.69,
         1008,
         39,
         1009,
         1009,
         303.12,
         303.12,
         303.12,
         "Kolkata",
         "IN",
         1738802614,
         1738843058,
         4500,
         "haze",
         "Haze",
         350,
         null,
         3.09
        ],
        [
         0,
         19.0144,
         72.8479,
         304.35,
         1008,
         42,
         1009,
         1009,
         304.14,
         304.14,
         302.09,
         "Mumbai",
         "IN",
         1738806069,
         1738847054,
         3000,
         "smoke",
         "Smoke",
         280,
         null,
         4.12
        ],
        [
         0,
         25.6,
         85.1167,
         296.37,
         1005,
         31,
         1011,
         1011,
         297.11,
         297.11,
         297.11,
         "Patna",
         "IN",
         1738803635,
         1738843599,
         6000,
         "clear sky",
         "Clear",
         280,
         null,
         5.66
        ],
        [
         0,
         21.1667,
         72.8333,
         302.87,
         1009,
         30,
         1010,
         1010,
         304.14,
         304.14,
         304.14,
         "Surat",
         "IN",
         1738806234,
         1738846896,
         5000,
         "smoke",
         "Smoke",
         30,
         null,
         6.17
        ],
        [
         0,
         22.3,
         73.2,
         300.9,
         1008,
         28,
         1012,
         1012,
         302.13,
         302.13,
         302.13,
         "Vadodara",
         "IN",
         1738806233,
         1738846722,
         6000,
         "clear sky",
         "Clear",
         40,
         null,
         5.66
        ],
        [
         0,
         26.85,
         80.9167,
         296.25,
         998,
         25,
         1013,
         1013,
         297.14,
         297.14,
         297.14,
         "Lucknow",
         "IN",
         1738804745,
         1738844505,
         5000,
         "haze",
         "Haze",
         290,
         null,
         7.2
        ],
        [
         0,
         26.4667,
         80.35,
         296.64,
         999,
         17,
         1014,
         1014,
         297.69,
         297.69,
         297.69,
         "Kanpur",
         "IN",
         1738804849,
         1738844673,
         10000,
         "clear sky",
         "Clear",
         300,
         8.06,
         6.77
        ],
        [
         0,
         21.15,
         79.1,
         300.92,
         977,
         28,
         1011,
         1011,
         302.16,
         302.16,
         302.16,
         "Nagpur",
         "IN",
         1738804729,
         1738845393,
         5000,
         "haze",
         "Haze",
         20,
         null,
         2.57
        ],
        [
         1,
         18.5196,
         73.8553,
         303,
         938,
         24,
         1010,
         1010,
         304.76,
         304.76,
         304.76,
         "Pune",
         "IN",
         1738805791,
         1738846849,
         10000,
         "clear sky",
         "Clear",
         121,
         4.12,
         3.78
        ]
       ],
       "datasetInfos": [],
       "dbfsResultPath": null,
       "isJsonSchema": true,
       "metadata": {},
       "overflow": false,
       "plotOptions": {
        "customPlotOptions": {},
        "displayType": "table",
        "pivotAggregation": null,
        "pivotColumns": null,
        "xColumns": null,
        "yColumns": null
       },
       "removedWidgets": [],
       "schema": [
        {
         "metadata": "{}",
         "name": "clouds_all",
         "type": "\"long\""
        },
        {
         "metadata": "{}",
         "name": "latitude",
         "type": "\"double\""
        },
        {
         "metadata": "{}",
         "name": "longitude",
         "type": "\"double\""
        },
        {
         "metadata": "{}",
         "name": "main_feels_like",
         "type": "\"double\""
        },
        {
         "metadata": "{}",
         "name": "main_grnd_level",
         "type": "\"long\""
        },
        {
         "metadata": "{}",
         "name": "main_humidity",
         "type": "\"long\""
        },
        {
         "metadata": "{}",
         "name": "main_pressure",
         "type": "\"long\""
        },
        {
         "metadata": "{}",
         "name": "main_sea_level",
         "type": "\"long\""
        },
        {
         "metadata": "{}",
         "name": "main_temp",
         "type": "\"double\""
        },
        {
         "metadata": "{}",
         "name": "main_temp_max",
         "type": "\"double\""
        },
        {
         "metadata": "{}",
         "name": "main_temp_min",
         "type": "\"double\""
        },
        {
         "metadata": "{}",
         "name": "name",
         "type": "\"string\""
        },
        {
         "metadata": "{}",
         "name": "sys_country",
         "type": "\"string\""
        },
        {
         "metadata": "{}",
         "name": "sys_sunrise",
         "type": "\"long\""
        },
        {
         "metadata": "{}",
         "name": "sys_sunset",
         "type": "\"long\""
        },
        {
         "metadata": "{}",
         "name": "visibility",
         "type": "\"long\""
        },
        {
         "metadata": "{}",
         "name": "weather_0_description",
         "type": "\"string\""
        },
        {
         "metadata": "{}",
         "name": "weather_0_main",
         "type": "\"string\""
        },
        {
         "metadata": "{}",
         "name": "wind_deg",
         "type": "\"long\""
        },
        {
         "metadata": "{}",
         "name": "wind_gust",
         "type": "\"double\""
        },
        {
         "metadata": "{}",
         "name": "wind_speed",
         "type": "\"double\""
        }
       ],
       "type": "table"
      }
     },
     "output_type": "display_data"
    }
   ],
   "source": [
    "df = df_final.drop(\"base\", \"cod\", \"dt\",\"id\",\"sys_id\",\"sys_type\",\"weather_0_icon\",\"weather_0_id\",\"timezone\",\"weather_main\")\n",
    "df = df.withColumnRenamed(\"coord_lat\", \"latitude\")\n",
    "df = df.withColumnRenamed(\"coord_lon\", \"longitude\")\n",
    "df.display()"
   ]
  },
  {
   "cell_type": "code",
   "execution_count": null,
   "metadata": {
    "application/vnd.databricks.v1+cell": {
     "cellMetadata": {
      "byteLimit": 2048000,
      "rowLimit": 10000
     },
     "inputWidgets": {},
     "nuid": "4a9e5efa-b31c-4d1a-8bf1-2d79c0afb302",
     "showTitle": false,
     "tableResultSettingsMap": {},
     "title": ""
    }
   },
   "outputs": [],
   "source": [
    "df = df.withColumn(\"sunrise_time\", F.from_unixtime(\"sys_sunrise\").alias(\"sunrise_time\"))\n",
    "df = df.withColumn(\"sunset_time\", F.from_unixtime(\"sys_sunset\").alias(\"sunset_time\"))"
   ]
  },
  {
   "cell_type": "code",
   "execution_count": null,
   "metadata": {
    "application/vnd.databricks.v1+cell": {
     "cellMetadata": {
      "byteLimit": 2048000,
      "rowLimit": 10000
     },
     "inputWidgets": {},
     "nuid": "2c567150-4ab3-4c25-bcc4-be1286af0a8a",
     "showTitle": false,
     "tableResultSettingsMap": {},
     "title": ""
    }
   },
   "outputs": [
    {
     "data": {
      "text/html": [
       "<style scoped>\n",
       "  .table-result-container {\n",
       "    max-height: 300px;\n",
       "    overflow: auto;\n",
       "  }\n",
       "  table, th, td {\n",
       "    border: 1px solid black;\n",
       "    border-collapse: collapse;\n",
       "  }\n",
       "  th, td {\n",
       "    padding: 5px;\n",
       "  }\n",
       "  th {\n",
       "    text-align: left;\n",
       "  }\n",
       "</style><div class='table-result-container'><table class='table-result'><thead style='background-color: white'><tr><th>clouds_all</th><th>latitude</th><th>longitude</th><th>main_feels_like</th><th>main_grnd_level</th><th>main_humidity</th><th>main_pressure</th><th>main_sea_level</th><th>main_temp</th><th>main_temp_max</th><th>main_temp_min</th><th>name</th><th>sys_country</th><th>visibility</th><th>weather_0_description</th><th>weather_0_main</th><th>wind_deg</th><th>wind_gust</th><th>wind_speed</th><th>sunrise_time</th><th>sunset_time</th></tr></thead><tbody><tr><td>0</td><td>28.6667</td><td>77.2167</td><td>294.01</td><td>989</td><td>21</td><td>1015</td><td>1015</td><td>295.2</td><td>295.2</td><td>295.2</td><td>Delhi</td><td>IN</td><td>6000</td><td>clear sky</td><td>Clear</td><td>300</td><td>10.29</td><td>5.14</td><td>2025-02-06 01:36:26</td><td>2025-02-06 12:34:00</td></tr><tr><td>72</td><td>9.9399</td><td>76.2602</td><td>306.54</td><td>1007</td><td>58</td><td>1008</td><td>1008</td><td>303.66</td><td>307.14</td><td>303.66</td><td>Kochi</td><td>IN</td><td>10000</td><td>broken clouds</td><td>Clouds</td><td>270</td><td>null</td><td>2.24</td><td>2025-02-06 01:16:47</td><td>2025-02-06 13:01:19</td></tr><tr><td>20</td><td>13.0878</td><td>80.2785</td><td>306.52</td><td>1009</td><td>57</td><td>1010</td><td>1010</td><td>303.76</td><td>305.5</td><td>303.16</td><td>Chennai</td><td>IN</td><td>6000</td><td>few clouds</td><td>Clouds</td><td>130</td><td>null</td><td>3.6</td><td>2025-02-06 01:04:20</td><td>2025-02-06 12:41:36</td></tr><tr><td>20</td><td>17.3753</td><td>78.4744</td><td>303.9</td><td>947</td><td>27</td><td>1010</td><td>1010</td><td>305.38</td><td>306.88</td><td>305.38</td><td>Hyderabad</td><td>IN</td><td>6000</td><td>few clouds</td><td>Clouds</td><td>110</td><td>null</td><td>4.63</td><td>2025-02-06 01:16:39</td><td>2025-02-06 12:43:44</td></tr><tr><td>84</td><td>11.0</td><td>76.9667</td><td>304.04</td><td>960</td><td>21</td><td>1009</td><td>1009</td><td>306.03</td><td>306.03</td><td>306.03</td><td>Coimbatore</td><td>IN</td><td>6000</td><td>broken clouds</td><td>Clouds</td><td>90</td><td>null</td><td>6.17</td><td>2025-02-06 01:15:10</td><td>2025-02-06 12:57:16</td></tr><tr><td>0</td><td>12.9762</td><td>77.6033</td><td>300.89</td><td>913</td><td>29</td><td>1010</td><td>1010</td><td>302.05</td><td>302.95</td><td>300.85</td><td>Bengaluru</td><td>IN</td><td>10000</td><td>clear sky</td><td>Clear</td><td>70</td><td>null</td><td>5.14</td><td>2025-02-06 01:14:54</td><td>2025-02-06 12:52:26</td></tr><tr><td>0</td><td>26.9167</td><td>75.8167</td><td>295.71</td><td>968</td><td>20</td><td>1016</td><td>1016</td><td>296.77</td><td>296.77</td><td>296.77</td><td>Jaipur</td><td>IN</td><td>6000</td><td>clear sky</td><td>Clear</td><td>320</td><td>null</td><td>4.12</td><td>2025-02-06 01:39:34</td><td>2025-02-06 12:42:04</td></tr><tr><td>0</td><td>23.0333</td><td>72.6167</td><td>299.28</td><td>1008</td><td>21</td><td>1013</td><td>1013</td><td>300.17</td><td>300.17</td><td>300.17</td><td>Ahmedabad</td><td>IN</td><td>4000</td><td>smoke</td><td>Smoke</td><td>30</td><td>null</td><td>6.69</td><td>2025-02-06 01:47:09</td><td>2025-02-06 13:00:05</td></tr><tr><td>20</td><td>23.2667</td><td>77.4</td><td>294.28</td><td>957</td><td>28</td><td>1014</td><td>1014</td><td>295.28</td><td>295.28</td><td>295.28</td><td>Bhopal</td><td>IN</td><td>6000</td><td>few clouds</td><td>Clouds</td><td>20</td><td>null</td><td>6.17</td><td>2025-02-06 01:28:20</td><td>2025-02-06 12:40:38</td></tr><tr><td>0</td><td>22.7179</td><td>75.8333</td><td>295.48</td><td>950</td><td>33</td><td>1014</td><td>1014</td><td>296.25</td><td>296.25</td><td>296.25</td><td>Indore</td><td>IN</td><td>6000</td><td>clear sky</td><td>Clear</td><td>70</td><td>null</td><td>6.17</td><td>2025-02-06 01:33:53</td><td>2025-02-06 12:47:37</td></tr><tr><td>20</td><td>22.5697</td><td>88.3697</td><td>302.69</td><td>1008</td><td>39</td><td>1009</td><td>1009</td><td>303.12</td><td>303.12</td><td>303.12</td><td>Kolkata</td><td>IN</td><td>4500</td><td>haze</td><td>Haze</td><td>350</td><td>null</td><td>3.09</td><td>2025-02-06 00:43:34</td><td>2025-02-06 11:57:38</td></tr><tr><td>0</td><td>19.0144</td><td>72.8479</td><td>304.35</td><td>1008</td><td>42</td><td>1009</td><td>1009</td><td>304.14</td><td>304.14</td><td>302.09</td><td>Mumbai</td><td>IN</td><td>3000</td><td>smoke</td><td>Smoke</td><td>280</td><td>null</td><td>4.12</td><td>2025-02-06 01:41:09</td><td>2025-02-06 13:04:14</td></tr><tr><td>0</td><td>25.6</td><td>85.1167</td><td>296.37</td><td>1005</td><td>31</td><td>1011</td><td>1011</td><td>297.11</td><td>297.11</td><td>297.11</td><td>Patna</td><td>IN</td><td>6000</td><td>clear sky</td><td>Clear</td><td>280</td><td>null</td><td>5.66</td><td>2025-02-06 01:00:35</td><td>2025-02-06 12:06:39</td></tr><tr><td>0</td><td>21.1667</td><td>72.8333</td><td>302.87</td><td>1009</td><td>30</td><td>1010</td><td>1010</td><td>304.14</td><td>304.14</td><td>304.14</td><td>Surat</td><td>IN</td><td>5000</td><td>smoke</td><td>Smoke</td><td>30</td><td>null</td><td>6.17</td><td>2025-02-06 01:43:54</td><td>2025-02-06 13:01:36</td></tr><tr><td>0</td><td>22.3</td><td>73.2</td><td>300.9</td><td>1008</td><td>28</td><td>1012</td><td>1012</td><td>302.13</td><td>302.13</td><td>302.13</td><td>Vadodara</td><td>IN</td><td>6000</td><td>clear sky</td><td>Clear</td><td>40</td><td>null</td><td>5.66</td><td>2025-02-06 01:43:53</td><td>2025-02-06 12:58:42</td></tr><tr><td>0</td><td>26.85</td><td>80.9167</td><td>296.25</td><td>998</td><td>25</td><td>1013</td><td>1013</td><td>297.14</td><td>297.14</td><td>297.14</td><td>Lucknow</td><td>IN</td><td>5000</td><td>haze</td><td>Haze</td><td>290</td><td>null</td><td>7.2</td><td>2025-02-06 01:19:05</td><td>2025-02-06 12:21:45</td></tr><tr><td>0</td><td>26.4667</td><td>80.35</td><td>296.64</td><td>999</td><td>17</td><td>1014</td><td>1014</td><td>297.69</td><td>297.69</td><td>297.69</td><td>Kanpur</td><td>IN</td><td>10000</td><td>clear sky</td><td>Clear</td><td>300</td><td>8.06</td><td>6.77</td><td>2025-02-06 01:20:49</td><td>2025-02-06 12:24:33</td></tr><tr><td>0</td><td>21.15</td><td>79.1</td><td>300.92</td><td>977</td><td>28</td><td>1011</td><td>1011</td><td>302.16</td><td>302.16</td><td>302.16</td><td>Nagpur</td><td>IN</td><td>5000</td><td>haze</td><td>Haze</td><td>20</td><td>null</td><td>2.57</td><td>2025-02-06 01:18:49</td><td>2025-02-06 12:36:33</td></tr><tr><td>1</td><td>18.5196</td><td>73.8553</td><td>303.0</td><td>938</td><td>24</td><td>1010</td><td>1010</td><td>304.76</td><td>304.76</td><td>304.76</td><td>Pune</td><td>IN</td><td>10000</td><td>clear sky</td><td>Clear</td><td>121</td><td>4.12</td><td>3.78</td><td>2025-02-06 01:36:31</td><td>2025-02-06 13:00:49</td></tr></tbody></table></div>"
      ]
     },
     "metadata": {
      "application/vnd.databricks.v1+output": {
       "addedWidgets": {},
       "aggData": [],
       "aggError": "",
       "aggOverflow": false,
       "aggSchema": [],
       "aggSeriesLimitReached": false,
       "aggType": "",
       "arguments": {},
       "columnCustomDisplayInfos": {},
       "data": [
        [
         0,
         28.6667,
         77.2167,
         294.01,
         989,
         21,
         1015,
         1015,
         295.2,
         295.2,
         295.2,
         "Delhi",
         "IN",
         6000,
         "clear sky",
         "Clear",
         300,
         10.29,
         5.14,
         "2025-02-06 01:36:26",
         "2025-02-06 12:34:00"
        ],
        [
         72,
         9.9399,
         76.2602,
         306.54,
         1007,
         58,
         1008,
         1008,
         303.66,
         307.14,
         303.66,
         "Kochi",
         "IN",
         10000,
         "broken clouds",
         "Clouds",
         270,
         null,
         2.24,
         "2025-02-06 01:16:47",
         "2025-02-06 13:01:19"
        ],
        [
         20,
         13.0878,
         80.2785,
         306.52,
         1009,
         57,
         1010,
         1010,
         303.76,
         305.5,
         303.16,
         "Chennai",
         "IN",
         6000,
         "few clouds",
         "Clouds",
         130,
         null,
         3.6,
         "2025-02-06 01:04:20",
         "2025-02-06 12:41:36"
        ],
        [
         20,
         17.3753,
         78.4744,
         303.9,
         947,
         27,
         1010,
         1010,
         305.38,
         306.88,
         305.38,
         "Hyderabad",
         "IN",
         6000,
         "few clouds",
         "Clouds",
         110,
         null,
         4.63,
         "2025-02-06 01:16:39",
         "2025-02-06 12:43:44"
        ],
        [
         84,
         11,
         76.9667,
         304.04,
         960,
         21,
         1009,
         1009,
         306.03,
         306.03,
         306.03,
         "Coimbatore",
         "IN",
         6000,
         "broken clouds",
         "Clouds",
         90,
         null,
         6.17,
         "2025-02-06 01:15:10",
         "2025-02-06 12:57:16"
        ],
        [
         0,
         12.9762,
         77.6033,
         300.89,
         913,
         29,
         1010,
         1010,
         302.05,
         302.95,
         300.85,
         "Bengaluru",
         "IN",
         10000,
         "clear sky",
         "Clear",
         70,
         null,
         5.14,
         "2025-02-06 01:14:54",
         "2025-02-06 12:52:26"
        ],
        [
         0,
         26.9167,
         75.8167,
         295.71,
         968,
         20,
         1016,
         1016,
         296.77,
         296.77,
         296.77,
         "Jaipur",
         "IN",
         6000,
         "clear sky",
         "Clear",
         320,
         null,
         4.12,
         "2025-02-06 01:39:34",
         "2025-02-06 12:42:04"
        ],
        [
         0,
         23.0333,
         72.6167,
         299.28,
         1008,
         21,
         1013,
         1013,
         300.17,
         300.17,
         300.17,
         "Ahmedabad",
         "IN",
         4000,
         "smoke",
         "Smoke",
         30,
         null,
         6.69,
         "2025-02-06 01:47:09",
         "2025-02-06 13:00:05"
        ],
        [
         20,
         23.2667,
         77.4,
         294.28,
         957,
         28,
         1014,
         1014,
         295.28,
         295.28,
         295.28,
         "Bhopal",
         "IN",
         6000,
         "few clouds",
         "Clouds",
         20,
         null,
         6.17,
         "2025-02-06 01:28:20",
         "2025-02-06 12:40:38"
        ],
        [
         0,
         22.7179,
         75.8333,
         295.48,
         950,
         33,
         1014,
         1014,
         296.25,
         296.25,
         296.25,
         "Indore",
         "IN",
         6000,
         "clear sky",
         "Clear",
         70,
         null,
         6.17,
         "2025-02-06 01:33:53",
         "2025-02-06 12:47:37"
        ],
        [
         20,
         22.5697,
         88.3697,
         302.69,
         1008,
         39,
         1009,
         1009,
         303.12,
         303.12,
         303.12,
         "Kolkata",
         "IN",
         4500,
         "haze",
         "Haze",
         350,
         null,
         3.09,
         "2025-02-06 00:43:34",
         "2025-02-06 11:57:38"
        ],
        [
         0,
         19.0144,
         72.8479,
         304.35,
         1008,
         42,
         1009,
         1009,
         304.14,
         304.14,
         302.09,
         "Mumbai",
         "IN",
         3000,
         "smoke",
         "Smoke",
         280,
         null,
         4.12,
         "2025-02-06 01:41:09",
         "2025-02-06 13:04:14"
        ],
        [
         0,
         25.6,
         85.1167,
         296.37,
         1005,
         31,
         1011,
         1011,
         297.11,
         297.11,
         297.11,
         "Patna",
         "IN",
         6000,
         "clear sky",
         "Clear",
         280,
         null,
         5.66,
         "2025-02-06 01:00:35",
         "2025-02-06 12:06:39"
        ],
        [
         0,
         21.1667,
         72.8333,
         302.87,
         1009,
         30,
         1010,
         1010,
         304.14,
         304.14,
         304.14,
         "Surat",
         "IN",
         5000,
         "smoke",
         "Smoke",
         30,
         null,
         6.17,
         "2025-02-06 01:43:54",
         "2025-02-06 13:01:36"
        ],
        [
         0,
         22.3,
         73.2,
         300.9,
         1008,
         28,
         1012,
         1012,
         302.13,
         302.13,
         302.13,
         "Vadodara",
         "IN",
         6000,
         "clear sky",
         "Clear",
         40,
         null,
         5.66,
         "2025-02-06 01:43:53",
         "2025-02-06 12:58:42"
        ],
        [
         0,
         26.85,
         80.9167,
         296.25,
         998,
         25,
         1013,
         1013,
         297.14,
         297.14,
         297.14,
         "Lucknow",
         "IN",
         5000,
         "haze",
         "Haze",
         290,
         null,
         7.2,
         "2025-02-06 01:19:05",
         "2025-02-06 12:21:45"
        ],
        [
         0,
         26.4667,
         80.35,
         296.64,
         999,
         17,
         1014,
         1014,
         297.69,
         297.69,
         297.69,
         "Kanpur",
         "IN",
         10000,
         "clear sky",
         "Clear",
         300,
         8.06,
         6.77,
         "2025-02-06 01:20:49",
         "2025-02-06 12:24:33"
        ],
        [
         0,
         21.15,
         79.1,
         300.92,
         977,
         28,
         1011,
         1011,
         302.16,
         302.16,
         302.16,
         "Nagpur",
         "IN",
         5000,
         "haze",
         "Haze",
         20,
         null,
         2.57,
         "2025-02-06 01:18:49",
         "2025-02-06 12:36:33"
        ],
        [
         1,
         18.5196,
         73.8553,
         303,
         938,
         24,
         1010,
         1010,
         304.76,
         304.76,
         304.76,
         "Pune",
         "IN",
         10000,
         "clear sky",
         "Clear",
         121,
         4.12,
         3.78,
         "2025-02-06 01:36:31",
         "2025-02-06 13:00:49"
        ]
       ],
       "datasetInfos": [],
       "dbfsResultPath": null,
       "isJsonSchema": true,
       "metadata": {},
       "overflow": false,
       "plotOptions": {
        "customPlotOptions": {},
        "displayType": "table",
        "pivotAggregation": null,
        "pivotColumns": null,
        "xColumns": null,
        "yColumns": null
       },
       "removedWidgets": [],
       "schema": [
        {
         "metadata": "{}",
         "name": "clouds_all",
         "type": "\"long\""
        },
        {
         "metadata": "{}",
         "name": "latitude",
         "type": "\"double\""
        },
        {
         "metadata": "{}",
         "name": "longitude",
         "type": "\"double\""
        },
        {
         "metadata": "{}",
         "name": "main_feels_like",
         "type": "\"double\""
        },
        {
         "metadata": "{}",
         "name": "main_grnd_level",
         "type": "\"long\""
        },
        {
         "metadata": "{}",
         "name": "main_humidity",
         "type": "\"long\""
        },
        {
         "metadata": "{}",
         "name": "main_pressure",
         "type": "\"long\""
        },
        {
         "metadata": "{}",
         "name": "main_sea_level",
         "type": "\"long\""
        },
        {
         "metadata": "{}",
         "name": "main_temp",
         "type": "\"double\""
        },
        {
         "metadata": "{}",
         "name": "main_temp_max",
         "type": "\"double\""
        },
        {
         "metadata": "{}",
         "name": "main_temp_min",
         "type": "\"double\""
        },
        {
         "metadata": "{}",
         "name": "name",
         "type": "\"string\""
        },
        {
         "metadata": "{}",
         "name": "sys_country",
         "type": "\"string\""
        },
        {
         "metadata": "{}",
         "name": "visibility",
         "type": "\"long\""
        },
        {
         "metadata": "{}",
         "name": "weather_0_description",
         "type": "\"string\""
        },
        {
         "metadata": "{}",
         "name": "weather_0_main",
         "type": "\"string\""
        },
        {
         "metadata": "{}",
         "name": "wind_deg",
         "type": "\"long\""
        },
        {
         "metadata": "{}",
         "name": "wind_gust",
         "type": "\"double\""
        },
        {
         "metadata": "{}",
         "name": "wind_speed",
         "type": "\"double\""
        },
        {
         "metadata": "{}",
         "name": "sunrise_time",
         "type": "\"string\""
        },
        {
         "metadata": "{}",
         "name": "sunset_time",
         "type": "\"string\""
        }
       ],
       "type": "table"
      }
     },
     "output_type": "display_data"
    }
   ],
   "source": [
    "df = df.drop(\"sys_sunrise\", \"sys_sunset\")\n",
    "df.display()"
   ]
  },
  {
   "cell_type": "code",
   "execution_count": null,
   "metadata": {
    "application/vnd.databricks.v1+cell": {
     "cellMetadata": {
      "byteLimit": 2048000,
      "rowLimit": 10000
     },
     "inputWidgets": {},
     "nuid": "a30d7768-7edd-422a-8793-61e6ec6f7d93",
     "showTitle": false,
     "tableResultSettingsMap": {},
     "title": ""
    }
   },
   "outputs": [
    {
     "data": {
      "text/html": [
       "<style scoped>\n",
       "  .table-result-container {\n",
       "    max-height: 300px;\n",
       "    overflow: auto;\n",
       "  }\n",
       "  table, th, td {\n",
       "    border: 1px solid black;\n",
       "    border-collapse: collapse;\n",
       "  }\n",
       "  th, td {\n",
       "    padding: 5px;\n",
       "  }\n",
       "  th {\n",
       "    text-align: left;\n",
       "  }\n",
       "</style><div class='table-result-container'><table class='table-result'><thead style='background-color: white'><tr><th>cloudiness%</th><th>latitude</th><th>longitude</th><th>Feels like Temperature</th><th>Ground Level</th><th>Humidity</th><th>Pressure</th><th>Sea Level</th><th>Temperature</th><th>Max Temperature</th><th>Min Temperature</th><th>name</th><th>Country</th><th>visibility</th><th>Weather Description</th><th>Weather</th><th>Wind Direction</th><th>wind_gust</th><th>wind_speed</th><th>sunrise_time</th><th>sunset_time</th></tr></thead><tbody><tr><td>0</td><td>28.6667</td><td>77.2167</td><td>294.01</td><td>989</td><td>21</td><td>1015</td><td>1015</td><td>295.2</td><td>295.2</td><td>295.2</td><td>Delhi</td><td>IN</td><td>6000</td><td>clear sky</td><td>Clear</td><td>300</td><td>10.29</td><td>5.14</td><td>2025-02-06 01:36:26</td><td>2025-02-06 12:34:00</td></tr><tr><td>72</td><td>9.9399</td><td>76.2602</td><td>306.54</td><td>1007</td><td>58</td><td>1008</td><td>1008</td><td>303.66</td><td>307.14</td><td>303.66</td><td>Kochi</td><td>IN</td><td>10000</td><td>broken clouds</td><td>Clouds</td><td>270</td><td>null</td><td>2.24</td><td>2025-02-06 01:16:47</td><td>2025-02-06 13:01:19</td></tr><tr><td>20</td><td>13.0878</td><td>80.2785</td><td>306.52</td><td>1009</td><td>57</td><td>1010</td><td>1010</td><td>303.76</td><td>305.5</td><td>303.16</td><td>Chennai</td><td>IN</td><td>6000</td><td>few clouds</td><td>Clouds</td><td>130</td><td>null</td><td>3.6</td><td>2025-02-06 01:04:20</td><td>2025-02-06 12:41:36</td></tr><tr><td>20</td><td>17.3753</td><td>78.4744</td><td>303.9</td><td>947</td><td>27</td><td>1010</td><td>1010</td><td>305.38</td><td>306.88</td><td>305.38</td><td>Hyderabad</td><td>IN</td><td>6000</td><td>few clouds</td><td>Clouds</td><td>110</td><td>null</td><td>4.63</td><td>2025-02-06 01:16:39</td><td>2025-02-06 12:43:44</td></tr><tr><td>84</td><td>11.0</td><td>76.9667</td><td>304.04</td><td>960</td><td>21</td><td>1009</td><td>1009</td><td>306.03</td><td>306.03</td><td>306.03</td><td>Coimbatore</td><td>IN</td><td>6000</td><td>broken clouds</td><td>Clouds</td><td>90</td><td>null</td><td>6.17</td><td>2025-02-06 01:15:10</td><td>2025-02-06 12:57:16</td></tr><tr><td>0</td><td>12.9762</td><td>77.6033</td><td>300.89</td><td>913</td><td>29</td><td>1010</td><td>1010</td><td>302.05</td><td>302.95</td><td>300.85</td><td>Bengaluru</td><td>IN</td><td>10000</td><td>clear sky</td><td>Clear</td><td>70</td><td>null</td><td>5.14</td><td>2025-02-06 01:14:54</td><td>2025-02-06 12:52:26</td></tr><tr><td>0</td><td>26.9167</td><td>75.8167</td><td>295.71</td><td>968</td><td>20</td><td>1016</td><td>1016</td><td>296.77</td><td>296.77</td><td>296.77</td><td>Jaipur</td><td>IN</td><td>6000</td><td>clear sky</td><td>Clear</td><td>320</td><td>null</td><td>4.12</td><td>2025-02-06 01:39:34</td><td>2025-02-06 12:42:04</td></tr><tr><td>0</td><td>23.0333</td><td>72.6167</td><td>299.28</td><td>1008</td><td>21</td><td>1013</td><td>1013</td><td>300.17</td><td>300.17</td><td>300.17</td><td>Ahmedabad</td><td>IN</td><td>4000</td><td>smoke</td><td>Smoke</td><td>30</td><td>null</td><td>6.69</td><td>2025-02-06 01:47:09</td><td>2025-02-06 13:00:05</td></tr><tr><td>20</td><td>23.2667</td><td>77.4</td><td>294.28</td><td>957</td><td>28</td><td>1014</td><td>1014</td><td>295.28</td><td>295.28</td><td>295.28</td><td>Bhopal</td><td>IN</td><td>6000</td><td>few clouds</td><td>Clouds</td><td>20</td><td>null</td><td>6.17</td><td>2025-02-06 01:28:20</td><td>2025-02-06 12:40:38</td></tr><tr><td>0</td><td>22.7179</td><td>75.8333</td><td>295.48</td><td>950</td><td>33</td><td>1014</td><td>1014</td><td>296.25</td><td>296.25</td><td>296.25</td><td>Indore</td><td>IN</td><td>6000</td><td>clear sky</td><td>Clear</td><td>70</td><td>null</td><td>6.17</td><td>2025-02-06 01:33:53</td><td>2025-02-06 12:47:37</td></tr><tr><td>20</td><td>22.5697</td><td>88.3697</td><td>302.69</td><td>1008</td><td>39</td><td>1009</td><td>1009</td><td>303.12</td><td>303.12</td><td>303.12</td><td>Kolkata</td><td>IN</td><td>4500</td><td>haze</td><td>Haze</td><td>350</td><td>null</td><td>3.09</td><td>2025-02-06 00:43:34</td><td>2025-02-06 11:57:38</td></tr><tr><td>0</td><td>19.0144</td><td>72.8479</td><td>304.35</td><td>1008</td><td>42</td><td>1009</td><td>1009</td><td>304.14</td><td>304.14</td><td>302.09</td><td>Mumbai</td><td>IN</td><td>3000</td><td>smoke</td><td>Smoke</td><td>280</td><td>null</td><td>4.12</td><td>2025-02-06 01:41:09</td><td>2025-02-06 13:04:14</td></tr><tr><td>0</td><td>25.6</td><td>85.1167</td><td>296.37</td><td>1005</td><td>31</td><td>1011</td><td>1011</td><td>297.11</td><td>297.11</td><td>297.11</td><td>Patna</td><td>IN</td><td>6000</td><td>clear sky</td><td>Clear</td><td>280</td><td>null</td><td>5.66</td><td>2025-02-06 01:00:35</td><td>2025-02-06 12:06:39</td></tr><tr><td>0</td><td>21.1667</td><td>72.8333</td><td>302.87</td><td>1009</td><td>30</td><td>1010</td><td>1010</td><td>304.14</td><td>304.14</td><td>304.14</td><td>Surat</td><td>IN</td><td>5000</td><td>smoke</td><td>Smoke</td><td>30</td><td>null</td><td>6.17</td><td>2025-02-06 01:43:54</td><td>2025-02-06 13:01:36</td></tr><tr><td>0</td><td>22.3</td><td>73.2</td><td>300.9</td><td>1008</td><td>28</td><td>1012</td><td>1012</td><td>302.13</td><td>302.13</td><td>302.13</td><td>Vadodara</td><td>IN</td><td>6000</td><td>clear sky</td><td>Clear</td><td>40</td><td>null</td><td>5.66</td><td>2025-02-06 01:43:53</td><td>2025-02-06 12:58:42</td></tr><tr><td>0</td><td>26.85</td><td>80.9167</td><td>296.25</td><td>998</td><td>25</td><td>1013</td><td>1013</td><td>297.14</td><td>297.14</td><td>297.14</td><td>Lucknow</td><td>IN</td><td>5000</td><td>haze</td><td>Haze</td><td>290</td><td>null</td><td>7.2</td><td>2025-02-06 01:19:05</td><td>2025-02-06 12:21:45</td></tr><tr><td>0</td><td>26.4667</td><td>80.35</td><td>296.64</td><td>999</td><td>17</td><td>1014</td><td>1014</td><td>297.69</td><td>297.69</td><td>297.69</td><td>Kanpur</td><td>IN</td><td>10000</td><td>clear sky</td><td>Clear</td><td>300</td><td>8.06</td><td>6.77</td><td>2025-02-06 01:20:49</td><td>2025-02-06 12:24:33</td></tr><tr><td>0</td><td>21.15</td><td>79.1</td><td>300.92</td><td>977</td><td>28</td><td>1011</td><td>1011</td><td>302.16</td><td>302.16</td><td>302.16</td><td>Nagpur</td><td>IN</td><td>5000</td><td>haze</td><td>Haze</td><td>20</td><td>null</td><td>2.57</td><td>2025-02-06 01:18:49</td><td>2025-02-06 12:36:33</td></tr><tr><td>1</td><td>18.5196</td><td>73.8553</td><td>303.0</td><td>938</td><td>24</td><td>1010</td><td>1010</td><td>304.76</td><td>304.76</td><td>304.76</td><td>Pune</td><td>IN</td><td>10000</td><td>clear sky</td><td>Clear</td><td>121</td><td>4.12</td><td>3.78</td><td>2025-02-06 01:36:31</td><td>2025-02-06 13:00:49</td></tr></tbody></table></div>"
      ]
     },
     "metadata": {
      "application/vnd.databricks.v1+output": {
       "addedWidgets": {},
       "aggData": [],
       "aggError": "",
       "aggOverflow": false,
       "aggSchema": [],
       "aggSeriesLimitReached": false,
       "aggType": "",
       "arguments": {},
       "columnCustomDisplayInfos": {},
       "data": [
        [
         0,
         28.6667,
         77.2167,
         294.01,
         989,
         21,
         1015,
         1015,
         295.2,
         295.2,
         295.2,
         "Delhi",
         "IN",
         6000,
         "clear sky",
         "Clear",
         300,
         10.29,
         5.14,
         "2025-02-06 01:36:26",
         "2025-02-06 12:34:00"
        ],
        [
         72,
         9.9399,
         76.2602,
         306.54,
         1007,
         58,
         1008,
         1008,
         303.66,
         307.14,
         303.66,
         "Kochi",
         "IN",
         10000,
         "broken clouds",
         "Clouds",
         270,
         null,
         2.24,
         "2025-02-06 01:16:47",
         "2025-02-06 13:01:19"
        ],
        [
         20,
         13.0878,
         80.2785,
         306.52,
         1009,
         57,
         1010,
         1010,
         303.76,
         305.5,
         303.16,
         "Chennai",
         "IN",
         6000,
         "few clouds",
         "Clouds",
         130,
         null,
         3.6,
         "2025-02-06 01:04:20",
         "2025-02-06 12:41:36"
        ],
        [
         20,
         17.3753,
         78.4744,
         303.9,
         947,
         27,
         1010,
         1010,
         305.38,
         306.88,
         305.38,
         "Hyderabad",
         "IN",
         6000,
         "few clouds",
         "Clouds",
         110,
         null,
         4.63,
         "2025-02-06 01:16:39",
         "2025-02-06 12:43:44"
        ],
        [
         84,
         11,
         76.9667,
         304.04,
         960,
         21,
         1009,
         1009,
         306.03,
         306.03,
         306.03,
         "Coimbatore",
         "IN",
         6000,
         "broken clouds",
         "Clouds",
         90,
         null,
         6.17,
         "2025-02-06 01:15:10",
         "2025-02-06 12:57:16"
        ],
        [
         0,
         12.9762,
         77.6033,
         300.89,
         913,
         29,
         1010,
         1010,
         302.05,
         302.95,
         300.85,
         "Bengaluru",
         "IN",
         10000,
         "clear sky",
         "Clear",
         70,
         null,
         5.14,
         "2025-02-06 01:14:54",
         "2025-02-06 12:52:26"
        ],
        [
         0,
         26.9167,
         75.8167,
         295.71,
         968,
         20,
         1016,
         1016,
         296.77,
         296.77,
         296.77,
         "Jaipur",
         "IN",
         6000,
         "clear sky",
         "Clear",
         320,
         null,
         4.12,
         "2025-02-06 01:39:34",
         "2025-02-06 12:42:04"
        ],
        [
         0,
         23.0333,
         72.6167,
         299.28,
         1008,
         21,
         1013,
         1013,
         300.17,
         300.17,
         300.17,
         "Ahmedabad",
         "IN",
         4000,
         "smoke",
         "Smoke",
         30,
         null,
         6.69,
         "2025-02-06 01:47:09",
         "2025-02-06 13:00:05"
        ],
        [
         20,
         23.2667,
         77.4,
         294.28,
         957,
         28,
         1014,
         1014,
         295.28,
         295.28,
         295.28,
         "Bhopal",
         "IN",
         6000,
         "few clouds",
         "Clouds",
         20,
         null,
         6.17,
         "2025-02-06 01:28:20",
         "2025-02-06 12:40:38"
        ],
        [
         0,
         22.7179,
         75.8333,
         295.48,
         950,
         33,
         1014,
         1014,
         296.25,
         296.25,
         296.25,
         "Indore",
         "IN",
         6000,
         "clear sky",
         "Clear",
         70,
         null,
         6.17,
         "2025-02-06 01:33:53",
         "2025-02-06 12:47:37"
        ],
        [
         20,
         22.5697,
         88.3697,
         302.69,
         1008,
         39,
         1009,
         1009,
         303.12,
         303.12,
         303.12,
         "Kolkata",
         "IN",
         4500,
         "haze",
         "Haze",
         350,
         null,
         3.09,
         "2025-02-06 00:43:34",
         "2025-02-06 11:57:38"
        ],
        [
         0,
         19.0144,
         72.8479,
         304.35,
         1008,
         42,
         1009,
         1009,
         304.14,
         304.14,
         302.09,
         "Mumbai",
         "IN",
         3000,
         "smoke",
         "Smoke",
         280,
         null,
         4.12,
         "2025-02-06 01:41:09",
         "2025-02-06 13:04:14"
        ],
        [
         0,
         25.6,
         85.1167,
         296.37,
         1005,
         31,
         1011,
         1011,
         297.11,
         297.11,
         297.11,
         "Patna",
         "IN",
         6000,
         "clear sky",
         "Clear",
         280,
         null,
         5.66,
         "2025-02-06 01:00:35",
         "2025-02-06 12:06:39"
        ],
        [
         0,
         21.1667,
         72.8333,
         302.87,
         1009,
         30,
         1010,
         1010,
         304.14,
         304.14,
         304.14,
         "Surat",
         "IN",
         5000,
         "smoke",
         "Smoke",
         30,
         null,
         6.17,
         "2025-02-06 01:43:54",
         "2025-02-06 13:01:36"
        ],
        [
         0,
         22.3,
         73.2,
         300.9,
         1008,
         28,
         1012,
         1012,
         302.13,
         302.13,
         302.13,
         "Vadodara",
         "IN",
         6000,
         "clear sky",
         "Clear",
         40,
         null,
         5.66,
         "2025-02-06 01:43:53",
         "2025-02-06 12:58:42"
        ],
        [
         0,
         26.85,
         80.9167,
         296.25,
         998,
         25,
         1013,
         1013,
         297.14,
         297.14,
         297.14,
         "Lucknow",
         "IN",
         5000,
         "haze",
         "Haze",
         290,
         null,
         7.2,
         "2025-02-06 01:19:05",
         "2025-02-06 12:21:45"
        ],
        [
         0,
         26.4667,
         80.35,
         296.64,
         999,
         17,
         1014,
         1014,
         297.69,
         297.69,
         297.69,
         "Kanpur",
         "IN",
         10000,
         "clear sky",
         "Clear",
         300,
         8.06,
         6.77,
         "2025-02-06 01:20:49",
         "2025-02-06 12:24:33"
        ],
        [
         0,
         21.15,
         79.1,
         300.92,
         977,
         28,
         1011,
         1011,
         302.16,
         302.16,
         302.16,
         "Nagpur",
         "IN",
         5000,
         "haze",
         "Haze",
         20,
         null,
         2.57,
         "2025-02-06 01:18:49",
         "2025-02-06 12:36:33"
        ],
        [
         1,
         18.5196,
         73.8553,
         303,
         938,
         24,
         1010,
         1010,
         304.76,
         304.76,
         304.76,
         "Pune",
         "IN",
         10000,
         "clear sky",
         "Clear",
         121,
         4.12,
         3.78,
         "2025-02-06 01:36:31",
         "2025-02-06 13:00:49"
        ]
       ],
       "datasetInfos": [],
       "dbfsResultPath": null,
       "isJsonSchema": true,
       "metadata": {},
       "overflow": false,
       "plotOptions": {
        "customPlotOptions": {},
        "displayType": "table",
        "pivotAggregation": null,
        "pivotColumns": null,
        "xColumns": null,
        "yColumns": null
       },
       "removedWidgets": [],
       "schema": [
        {
         "metadata": "{}",
         "name": "cloudiness%",
         "type": "\"long\""
        },
        {
         "metadata": "{}",
         "name": "latitude",
         "type": "\"double\""
        },
        {
         "metadata": "{}",
         "name": "longitude",
         "type": "\"double\""
        },
        {
         "metadata": "{}",
         "name": "Feels like Temperature",
         "type": "\"double\""
        },
        {
         "metadata": "{}",
         "name": "Ground Level",
         "type": "\"long\""
        },
        {
         "metadata": "{}",
         "name": "Humidity",
         "type": "\"long\""
        },
        {
         "metadata": "{}",
         "name": "Pressure",
         "type": "\"long\""
        },
        {
         "metadata": "{}",
         "name": "Sea Level",
         "type": "\"long\""
        },
        {
         "metadata": "{}",
         "name": "Temperature",
         "type": "\"double\""
        },
        {
         "metadata": "{}",
         "name": "Max Temperature",
         "type": "\"double\""
        },
        {
         "metadata": "{}",
         "name": "Min Temperature",
         "type": "\"double\""
        },
        {
         "metadata": "{}",
         "name": "name",
         "type": "\"string\""
        },
        {
         "metadata": "{}",
         "name": "Country",
         "type": "\"string\""
        },
        {
         "metadata": "{}",
         "name": "visibility",
         "type": "\"long\""
        },
        {
         "metadata": "{}",
         "name": "Weather Description",
         "type": "\"string\""
        },
        {
         "metadata": "{}",
         "name": "Weather",
         "type": "\"string\""
        },
        {
         "metadata": "{}",
         "name": "Wind Direction",
         "type": "\"long\""
        },
        {
         "metadata": "{}",
         "name": "wind_gust",
         "type": "\"double\""
        },
        {
         "metadata": "{}",
         "name": "wind_speed",
         "type": "\"double\""
        },
        {
         "metadata": "{}",
         "name": "sunrise_time",
         "type": "\"string\""
        },
        {
         "metadata": "{}",
         "name": "sunset_time",
         "type": "\"string\""
        }
       ],
       "type": "table"
      }
     },
     "output_type": "display_data"
    }
   ],
   "source": [
    "df = df.withColumnRenamed(\"clouds_all\", \"cloudiness%\")\\\n",
    "        .withColumnRenamed(\"main_feels_like\",\"Feels like Temperature\")\\\n",
    "        .withColumnRenamed(\"main_grnd_level\",\"Ground Level\")\\\n",
    "        .withColumnRenamed(\"main_humidity\",\"Humidity\")\\\n",
    "        .withColumnRenamed(\"main_pressure\",\"Pressure\")\\\n",
    "        .withColumnRenamed(\"main_sea_level\",\"Sea Level\")\\\n",
    "        .withColumnRenamed(\"main_temp\",\"Temperature\")\\\n",
    "        .withColumnRenamed(\"main_temp_max\",\"Max Temperature\")\\\n",
    "        .withColumnRenamed(\"main_temp_min\",\"Min Temperature\")\\\n",
    "        .withColumnRenamed(\"sys_country\",\"Country\")\\\n",
    "        .withColumnRenamed(\"Weather_0_description\",\"Weather Description\")\\\n",
    "        .withColumnRenamed(\"Weather_0_main\",\"Weather\")\\\n",
    "        .withColumnRenamed(\"wind_deg\",\"Wind Direction\")\n",
    "df.display()"
   ]
  },
  {
   "cell_type": "code",
   "execution_count": null,
   "metadata": {
    "application/vnd.databricks.v1+cell": {
     "cellMetadata": {
      "byteLimit": 2048000,
      "rowLimit": 10000
     },
     "inputWidgets": {},
     "nuid": "00be1e9f-d77c-4823-a21b-71dfb188ae0d",
     "showTitle": false,
     "tableResultSettingsMap": {},
     "title": ""
    }
   },
   "outputs": [
    {
     "data": {
      "text/html": [
       "<style scoped>\n",
       "  .table-result-container {\n",
       "    max-height: 300px;\n",
       "    overflow: auto;\n",
       "  }\n",
       "  table, th, td {\n",
       "    border: 1px solid black;\n",
       "    border-collapse: collapse;\n",
       "  }\n",
       "  th, td {\n",
       "    padding: 5px;\n",
       "  }\n",
       "  th {\n",
       "    text-align: left;\n",
       "  }\n",
       "</style><div class='table-result-container'><table class='table-result'><thead style='background-color: white'><tr><th>cloudiness%</th><th>latitude</th><th>longitude</th><th>Feels like Temperature</th><th>Ground Level</th><th>Humidity</th><th>Pressure</th><th>Sea Level</th><th>Temperature</th><th>Max Temperature</th><th>Min Temperature</th><th>name</th><th>Country</th><th>visibility</th><th>Weather Description</th><th>Weather</th><th>Wind Direction</th><th>wind_gust</th><th>wind_speed</th><th>sunrise_time</th><th>sunset_time</th></tr></thead><tbody><tr><td>0</td><td>28.6667</td><td>77.2167</td><td>294.01</td><td>989</td><td>21</td><td>1015</td><td>1015</td><td>295.2</td><td>295.2</td><td>295.2</td><td>Delhi</td><td>IN</td><td>6000</td><td>clear sky</td><td>Clear</td><td>300</td><td>10.29</td><td>5.14</td><td>2025-02-06 01:36:26</td><td>2025-02-06 12:34:00</td></tr><tr><td>72</td><td>9.9399</td><td>76.2602</td><td>306.54</td><td>1007</td><td>58</td><td>1008</td><td>1008</td><td>303.66</td><td>307.14</td><td>303.66</td><td>Kochi</td><td>IN</td><td>10000</td><td>broken clouds</td><td>Clouds</td><td>270</td><td>0.0</td><td>2.24</td><td>2025-02-06 01:16:47</td><td>2025-02-06 13:01:19</td></tr><tr><td>20</td><td>13.0878</td><td>80.2785</td><td>306.52</td><td>1009</td><td>57</td><td>1010</td><td>1010</td><td>303.76</td><td>305.5</td><td>303.16</td><td>Chennai</td><td>IN</td><td>6000</td><td>few clouds</td><td>Clouds</td><td>130</td><td>0.0</td><td>3.6</td><td>2025-02-06 01:04:20</td><td>2025-02-06 12:41:36</td></tr><tr><td>20</td><td>17.3753</td><td>78.4744</td><td>303.9</td><td>947</td><td>27</td><td>1010</td><td>1010</td><td>305.38</td><td>306.88</td><td>305.38</td><td>Hyderabad</td><td>IN</td><td>6000</td><td>few clouds</td><td>Clouds</td><td>110</td><td>0.0</td><td>4.63</td><td>2025-02-06 01:16:39</td><td>2025-02-06 12:43:44</td></tr><tr><td>84</td><td>11.0</td><td>76.9667</td><td>304.04</td><td>960</td><td>21</td><td>1009</td><td>1009</td><td>306.03</td><td>306.03</td><td>306.03</td><td>Coimbatore</td><td>IN</td><td>6000</td><td>broken clouds</td><td>Clouds</td><td>90</td><td>0.0</td><td>6.17</td><td>2025-02-06 01:15:10</td><td>2025-02-06 12:57:16</td></tr><tr><td>0</td><td>12.9762</td><td>77.6033</td><td>300.89</td><td>913</td><td>29</td><td>1010</td><td>1010</td><td>302.05</td><td>302.95</td><td>300.85</td><td>Bengaluru</td><td>IN</td><td>10000</td><td>clear sky</td><td>Clear</td><td>70</td><td>0.0</td><td>5.14</td><td>2025-02-06 01:14:54</td><td>2025-02-06 12:52:26</td></tr><tr><td>0</td><td>26.9167</td><td>75.8167</td><td>295.71</td><td>968</td><td>20</td><td>1016</td><td>1016</td><td>296.77</td><td>296.77</td><td>296.77</td><td>Jaipur</td><td>IN</td><td>6000</td><td>clear sky</td><td>Clear</td><td>320</td><td>0.0</td><td>4.12</td><td>2025-02-06 01:39:34</td><td>2025-02-06 12:42:04</td></tr><tr><td>0</td><td>23.0333</td><td>72.6167</td><td>299.28</td><td>1008</td><td>21</td><td>1013</td><td>1013</td><td>300.17</td><td>300.17</td><td>300.17</td><td>Ahmedabad</td><td>IN</td><td>4000</td><td>smoke</td><td>Smoke</td><td>30</td><td>0.0</td><td>6.69</td><td>2025-02-06 01:47:09</td><td>2025-02-06 13:00:05</td></tr><tr><td>20</td><td>23.2667</td><td>77.4</td><td>294.28</td><td>957</td><td>28</td><td>1014</td><td>1014</td><td>295.28</td><td>295.28</td><td>295.28</td><td>Bhopal</td><td>IN</td><td>6000</td><td>few clouds</td><td>Clouds</td><td>20</td><td>0.0</td><td>6.17</td><td>2025-02-06 01:28:20</td><td>2025-02-06 12:40:38</td></tr><tr><td>0</td><td>22.7179</td><td>75.8333</td><td>295.48</td><td>950</td><td>33</td><td>1014</td><td>1014</td><td>296.25</td><td>296.25</td><td>296.25</td><td>Indore</td><td>IN</td><td>6000</td><td>clear sky</td><td>Clear</td><td>70</td><td>0.0</td><td>6.17</td><td>2025-02-06 01:33:53</td><td>2025-02-06 12:47:37</td></tr><tr><td>20</td><td>22.5697</td><td>88.3697</td><td>302.69</td><td>1008</td><td>39</td><td>1009</td><td>1009</td><td>303.12</td><td>303.12</td><td>303.12</td><td>Kolkata</td><td>IN</td><td>4500</td><td>haze</td><td>Haze</td><td>350</td><td>0.0</td><td>3.09</td><td>2025-02-06 00:43:34</td><td>2025-02-06 11:57:38</td></tr><tr><td>0</td><td>19.0144</td><td>72.8479</td><td>304.35</td><td>1008</td><td>42</td><td>1009</td><td>1009</td><td>304.14</td><td>304.14</td><td>302.09</td><td>Mumbai</td><td>IN</td><td>3000</td><td>smoke</td><td>Smoke</td><td>280</td><td>0.0</td><td>4.12</td><td>2025-02-06 01:41:09</td><td>2025-02-06 13:04:14</td></tr><tr><td>0</td><td>25.6</td><td>85.1167</td><td>296.37</td><td>1005</td><td>31</td><td>1011</td><td>1011</td><td>297.11</td><td>297.11</td><td>297.11</td><td>Patna</td><td>IN</td><td>6000</td><td>clear sky</td><td>Clear</td><td>280</td><td>0.0</td><td>5.66</td><td>2025-02-06 01:00:35</td><td>2025-02-06 12:06:39</td></tr><tr><td>0</td><td>21.1667</td><td>72.8333</td><td>302.87</td><td>1009</td><td>30</td><td>1010</td><td>1010</td><td>304.14</td><td>304.14</td><td>304.14</td><td>Surat</td><td>IN</td><td>5000</td><td>smoke</td><td>Smoke</td><td>30</td><td>0.0</td><td>6.17</td><td>2025-02-06 01:43:54</td><td>2025-02-06 13:01:36</td></tr><tr><td>0</td><td>22.3</td><td>73.2</td><td>300.9</td><td>1008</td><td>28</td><td>1012</td><td>1012</td><td>302.13</td><td>302.13</td><td>302.13</td><td>Vadodara</td><td>IN</td><td>6000</td><td>clear sky</td><td>Clear</td><td>40</td><td>0.0</td><td>5.66</td><td>2025-02-06 01:43:53</td><td>2025-02-06 12:58:42</td></tr><tr><td>0</td><td>26.85</td><td>80.9167</td><td>296.25</td><td>998</td><td>25</td><td>1013</td><td>1013</td><td>297.14</td><td>297.14</td><td>297.14</td><td>Lucknow</td><td>IN</td><td>5000</td><td>haze</td><td>Haze</td><td>290</td><td>0.0</td><td>7.2</td><td>2025-02-06 01:19:05</td><td>2025-02-06 12:21:45</td></tr><tr><td>0</td><td>26.4667</td><td>80.35</td><td>296.64</td><td>999</td><td>17</td><td>1014</td><td>1014</td><td>297.69</td><td>297.69</td><td>297.69</td><td>Kanpur</td><td>IN</td><td>10000</td><td>clear sky</td><td>Clear</td><td>300</td><td>8.06</td><td>6.77</td><td>2025-02-06 01:20:49</td><td>2025-02-06 12:24:33</td></tr><tr><td>0</td><td>21.15</td><td>79.1</td><td>300.92</td><td>977</td><td>28</td><td>1011</td><td>1011</td><td>302.16</td><td>302.16</td><td>302.16</td><td>Nagpur</td><td>IN</td><td>5000</td><td>haze</td><td>Haze</td><td>20</td><td>0.0</td><td>2.57</td><td>2025-02-06 01:18:49</td><td>2025-02-06 12:36:33</td></tr><tr><td>1</td><td>18.5196</td><td>73.8553</td><td>303.0</td><td>938</td><td>24</td><td>1010</td><td>1010</td><td>304.76</td><td>304.76</td><td>304.76</td><td>Pune</td><td>IN</td><td>10000</td><td>clear sky</td><td>Clear</td><td>121</td><td>4.12</td><td>3.78</td><td>2025-02-06 01:36:31</td><td>2025-02-06 13:00:49</td></tr></tbody></table></div>"
      ]
     },
     "metadata": {
      "application/vnd.databricks.v1+output": {
       "addedWidgets": {},
       "aggData": [],
       "aggError": "",
       "aggOverflow": false,
       "aggSchema": [],
       "aggSeriesLimitReached": false,
       "aggType": "",
       "arguments": {},
       "columnCustomDisplayInfos": {},
       "data": [
        [
         0,
         28.6667,
         77.2167,
         294.01,
         989,
         21,
         1015,
         1015,
         295.2,
         295.2,
         295.2,
         "Delhi",
         "IN",
         6000,
         "clear sky",
         "Clear",
         300,
         10.29,
         5.14,
         "2025-02-06 01:36:26",
         "2025-02-06 12:34:00"
        ],
        [
         72,
         9.9399,
         76.2602,
         306.54,
         1007,
         58,
         1008,
         1008,
         303.66,
         307.14,
         303.66,
         "Kochi",
         "IN",
         10000,
         "broken clouds",
         "Clouds",
         270,
         0,
         2.24,
         "2025-02-06 01:16:47",
         "2025-02-06 13:01:19"
        ],
        [
         20,
         13.0878,
         80.2785,
         306.52,
         1009,
         57,
         1010,
         1010,
         303.76,
         305.5,
         303.16,
         "Chennai",
         "IN",
         6000,
         "few clouds",
         "Clouds",
         130,
         0,
         3.6,
         "2025-02-06 01:04:20",
         "2025-02-06 12:41:36"
        ],
        [
         20,
         17.3753,
         78.4744,
         303.9,
         947,
         27,
         1010,
         1010,
         305.38,
         306.88,
         305.38,
         "Hyderabad",
         "IN",
         6000,
         "few clouds",
         "Clouds",
         110,
         0,
         4.63,
         "2025-02-06 01:16:39",
         "2025-02-06 12:43:44"
        ],
        [
         84,
         11,
         76.9667,
         304.04,
         960,
         21,
         1009,
         1009,
         306.03,
         306.03,
         306.03,
         "Coimbatore",
         "IN",
         6000,
         "broken clouds",
         "Clouds",
         90,
         0,
         6.17,
         "2025-02-06 01:15:10",
         "2025-02-06 12:57:16"
        ],
        [
         0,
         12.9762,
         77.6033,
         300.89,
         913,
         29,
         1010,
         1010,
         302.05,
         302.95,
         300.85,
         "Bengaluru",
         "IN",
         10000,
         "clear sky",
         "Clear",
         70,
         0,
         5.14,
         "2025-02-06 01:14:54",
         "2025-02-06 12:52:26"
        ],
        [
         0,
         26.9167,
         75.8167,
         295.71,
         968,
         20,
         1016,
         1016,
         296.77,
         296.77,
         296.77,
         "Jaipur",
         "IN",
         6000,
         "clear sky",
         "Clear",
         320,
         0,
         4.12,
         "2025-02-06 01:39:34",
         "2025-02-06 12:42:04"
        ],
        [
         0,
         23.0333,
         72.6167,
         299.28,
         1008,
         21,
         1013,
         1013,
         300.17,
         300.17,
         300.17,
         "Ahmedabad",
         "IN",
         4000,
         "smoke",
         "Smoke",
         30,
         0,
         6.69,
         "2025-02-06 01:47:09",
         "2025-02-06 13:00:05"
        ],
        [
         20,
         23.2667,
         77.4,
         294.28,
         957,
         28,
         1014,
         1014,
         295.28,
         295.28,
         295.28,
         "Bhopal",
         "IN",
         6000,
         "few clouds",
         "Clouds",
         20,
         0,
         6.17,
         "2025-02-06 01:28:20",
         "2025-02-06 12:40:38"
        ],
        [
         0,
         22.7179,
         75.8333,
         295.48,
         950,
         33,
         1014,
         1014,
         296.25,
         296.25,
         296.25,
         "Indore",
         "IN",
         6000,
         "clear sky",
         "Clear",
         70,
         0,
         6.17,
         "2025-02-06 01:33:53",
         "2025-02-06 12:47:37"
        ],
        [
         20,
         22.5697,
         88.3697,
         302.69,
         1008,
         39,
         1009,
         1009,
         303.12,
         303.12,
         303.12,
         "Kolkata",
         "IN",
         4500,
         "haze",
         "Haze",
         350,
         0,
         3.09,
         "2025-02-06 00:43:34",
         "2025-02-06 11:57:38"
        ],
        [
         0,
         19.0144,
         72.8479,
         304.35,
         1008,
         42,
         1009,
         1009,
         304.14,
         304.14,
         302.09,
         "Mumbai",
         "IN",
         3000,
         "smoke",
         "Smoke",
         280,
         0,
         4.12,
         "2025-02-06 01:41:09",
         "2025-02-06 13:04:14"
        ],
        [
         0,
         25.6,
         85.1167,
         296.37,
         1005,
         31,
         1011,
         1011,
         297.11,
         297.11,
         297.11,
         "Patna",
         "IN",
         6000,
         "clear sky",
         "Clear",
         280,
         0,
         5.66,
         "2025-02-06 01:00:35",
         "2025-02-06 12:06:39"
        ],
        [
         0,
         21.1667,
         72.8333,
         302.87,
         1009,
         30,
         1010,
         1010,
         304.14,
         304.14,
         304.14,
         "Surat",
         "IN",
         5000,
         "smoke",
         "Smoke",
         30,
         0,
         6.17,
         "2025-02-06 01:43:54",
         "2025-02-06 13:01:36"
        ],
        [
         0,
         22.3,
         73.2,
         300.9,
         1008,
         28,
         1012,
         1012,
         302.13,
         302.13,
         302.13,
         "Vadodara",
         "IN",
         6000,
         "clear sky",
         "Clear",
         40,
         0,
         5.66,
         "2025-02-06 01:43:53",
         "2025-02-06 12:58:42"
        ],
        [
         0,
         26.85,
         80.9167,
         296.25,
         998,
         25,
         1013,
         1013,
         297.14,
         297.14,
         297.14,
         "Lucknow",
         "IN",
         5000,
         "haze",
         "Haze",
         290,
         0,
         7.2,
         "2025-02-06 01:19:05",
         "2025-02-06 12:21:45"
        ],
        [
         0,
         26.4667,
         80.35,
         296.64,
         999,
         17,
         1014,
         1014,
         297.69,
         297.69,
         297.69,
         "Kanpur",
         "IN",
         10000,
         "clear sky",
         "Clear",
         300,
         8.06,
         6.77,
         "2025-02-06 01:20:49",
         "2025-02-06 12:24:33"
        ],
        [
         0,
         21.15,
         79.1,
         300.92,
         977,
         28,
         1011,
         1011,
         302.16,
         302.16,
         302.16,
         "Nagpur",
         "IN",
         5000,
         "haze",
         "Haze",
         20,
         0,
         2.57,
         "2025-02-06 01:18:49",
         "2025-02-06 12:36:33"
        ],
        [
         1,
         18.5196,
         73.8553,
         303,
         938,
         24,
         1010,
         1010,
         304.76,
         304.76,
         304.76,
         "Pune",
         "IN",
         10000,
         "clear sky",
         "Clear",
         121,
         4.12,
         3.78,
         "2025-02-06 01:36:31",
         "2025-02-06 13:00:49"
        ]
       ],
       "datasetInfos": [],
       "dbfsResultPath": null,
       "isJsonSchema": true,
       "metadata": {},
       "overflow": false,
       "plotOptions": {
        "customPlotOptions": {},
        "displayType": "table",
        "pivotAggregation": null,
        "pivotColumns": null,
        "xColumns": null,
        "yColumns": null
       },
       "removedWidgets": [],
       "schema": [
        {
         "metadata": "{}",
         "name": "cloudiness%",
         "type": "\"long\""
        },
        {
         "metadata": "{}",
         "name": "latitude",
         "type": "\"double\""
        },
        {
         "metadata": "{}",
         "name": "longitude",
         "type": "\"double\""
        },
        {
         "metadata": "{}",
         "name": "Feels like Temperature",
         "type": "\"double\""
        },
        {
         "metadata": "{}",
         "name": "Ground Level",
         "type": "\"long\""
        },
        {
         "metadata": "{}",
         "name": "Humidity",
         "type": "\"long\""
        },
        {
         "metadata": "{}",
         "name": "Pressure",
         "type": "\"long\""
        },
        {
         "metadata": "{}",
         "name": "Sea Level",
         "type": "\"long\""
        },
        {
         "metadata": "{}",
         "name": "Temperature",
         "type": "\"double\""
        },
        {
         "metadata": "{}",
         "name": "Max Temperature",
         "type": "\"double\""
        },
        {
         "metadata": "{}",
         "name": "Min Temperature",
         "type": "\"double\""
        },
        {
         "metadata": "{}",
         "name": "name",
         "type": "\"string\""
        },
        {
         "metadata": "{}",
         "name": "Country",
         "type": "\"string\""
        },
        {
         "metadata": "{}",
         "name": "visibility",
         "type": "\"long\""
        },
        {
         "metadata": "{}",
         "name": "Weather Description",
         "type": "\"string\""
        },
        {
         "metadata": "{}",
         "name": "Weather",
         "type": "\"string\""
        },
        {
         "metadata": "{}",
         "name": "Wind Direction",
         "type": "\"long\""
        },
        {
         "metadata": "{}",
         "name": "wind_gust",
         "type": "\"double\""
        },
        {
         "metadata": "{}",
         "name": "wind_speed",
         "type": "\"double\""
        },
        {
         "metadata": "{}",
         "name": "sunrise_time",
         "type": "\"string\""
        },
        {
         "metadata": "{}",
         "name": "sunset_time",
         "type": "\"string\""
        }
       ],
       "type": "table"
      }
     },
     "output_type": "display_data"
    }
   ],
   "source": [
    "df = df.fillna({'wind_gust': 0})\n",
    "df.display()"
   ]
  },
  {
   "cell_type": "code",
   "execution_count": null,
   "metadata": {
    "application/vnd.databricks.v1+cell": {
     "cellMetadata": {
      "byteLimit": 2048000,
      "rowLimit": 10000
     },
     "inputWidgets": {},
     "nuid": "4b84ad6c-c511-4fae-a469-bfb618ae2507",
     "showTitle": false,
     "tableResultSettingsMap": {},
     "title": ""
    }
   },
   "outputs": [
    {
     "name": "stdout",
     "output_type": "stream",
     "text": [
      "No null values in the DataFrame\n"
     ]
    }
   ],
   "source": [
    "null_rows = df.filter(\n",
    "    reduce(lambda x, y: x | y, (col(c).isNull() for c in df.columns))\n",
    ").count()\n",
    "\n",
    "if null_rows > 0:\n",
    "    print(f\"There are {null_rows} rows with null values\")\n",
    "else:\n",
    "    print(\"No null values in the DataFrame\")"
   ]
  },
  {
   "cell_type": "code",
   "execution_count": null,
   "metadata": {
    "application/vnd.databricks.v1+cell": {
     "cellMetadata": {
      "byteLimit": 2048000,
      "rowLimit": 10000
     },
     "inputWidgets": {},
     "nuid": "b176f5d4-0257-4a47-8165-d8c3b7651c21",
     "showTitle": false,
     "tableResultSettingsMap": {},
     "title": ""
    }
   },
   "outputs": [],
   "source": [
    "df.write.mode(\"overwrite\").parquet(\"abfss://destination@weatherdlake.dfs.core.windows.net/Output\")"
   ]
  },
  {
   "cell_type": "markdown",
   "metadata": {
    "application/vnd.databricks.v1+cell": {
     "cellMetadata": {
      "byteLimit": 2048000,
      "rowLimit": 10000
     },
     "inputWidgets": {},
     "nuid": "891d1fe6-0f83-49a3-b0f6-67a6db12305e",
     "showTitle": false,
     "tableResultSettingsMap": {},
     "title": ""
    }
   },
   "source": [
    "**Data Visualization**"
   ]
  },
  {
   "cell_type": "code",
   "execution_count": null,
   "metadata": {
    "application/vnd.databricks.v1+cell": {
     "cellMetadata": {
      "byteLimit": 2048000,
      "rowLimit": 10000
     },
     "inputWidgets": {},
     "nuid": "0df9ebca-c0ee-4a77-ba4d-4ff548c26131",
     "showTitle": false,
     "tableResultSettingsMap": {},
     "title": ""
    }
   },
   "outputs": [],
   "source": [
    "import matplotlib.pyplot as plt\n",
    "import seaborn as sns\n",
    "import pandas as pd"
   ]
  },
  {
   "cell_type": "code",
   "execution_count": null,
   "metadata": {
    "application/vnd.databricks.v1+cell": {
     "cellMetadata": {
      "byteLimit": 2048000,
      "rowLimit": 10000
     },
     "inputWidgets": {},
     "nuid": "2b496cce-d02b-46e2-8f26-f2890bd3b3ad",
     "showTitle": false,
     "tableResultSettingsMap": {},
     "title": ""
    }
   },
   "outputs": [
    {
     "data": {
      "image/png": "[encoded data removed]",
      "text/plain": [
       "<Figure size 1000x600 with 1 Axes>"
      ]
     },
     "metadata": {},
     "output_type": "display_data"
    }
   ],
   "source": [
    "df_pandas = df.toPandas()\n",
    "\n",
    "# Scatter plot: Temperature vs Latitude & Longitude\n",
    "plt.figure(figsize=(10, 6))\n",
    "sns.scatterplot(data=df_pandas, x='longitude', y='latitude', hue='Temperature', palette='coolwarm', size='Temperature', sizes=(50, 200))\n",
    "plt.title('Temperature vs Location (Longitude & Latitude)')\n",
    "plt.xlabel('Longitude')\n",
    "plt.ylabel('Latitude')\n",
    "plt.legend(title=\"Temperature\")\n",
    "plt.show()\n"
   ]
  },
  {
   "cell_type": "markdown",
   "metadata": {
    "application/vnd.databricks.v1+cell": {
     "cellMetadata": {},
     "inputWidgets": {},
     "nuid": "cd039f3d-08b2-4e76-ac6f-18b21b91d057",
     "showTitle": false,
     "tableResultSettingsMap": {},
     "title": ""
    }
   },
   "source": [
    "**Higher temperatures (red and orange points) tend to cluster around lower latitudes (10.0 to 20.0) and longitudes (72 to 78).**\n",
    "\n",
    "**Lower temperatures (blue points) are more dispersed and appear at higher latitudes (above 20.0) and various longitudes.**"
   ]
  },
  {
   "cell_type": "code",
   "execution_count": null,
   "metadata": {
    "application/vnd.databricks.v1+cell": {
     "cellMetadata": {
      "byteLimit": 2048000,
      "rowLimit": 10000
     },
     "inputWidgets": {},
     "nuid": "21f87d01-d72b-4e69-bdf5-17cef55e4d26",
     "showTitle": false,
     "tableResultSettingsMap": {},
     "title": ""
    }
   },
   "outputs": [
    {
     "data": {
      "image/png": "[encoded data removed]",
      "text/plain": [
       "<Figure size 1000x600 with 1 Axes>"
      ]
     },
     "metadata": {},
     "output_type": "display_data"
    }
   ],
   "source": [
    "plt.figure(figsize=(10, 6))\n",
    "sns.scatterplot(data=df, x='Temperature', y='Humidity', hue='Weather', palette='Set2', style='Weather', markers=True)ather', markers=True)\n",
    "plt.title('Humidity vs Temperature')\n",
    "plt.xlabel('Temperature (K)')\n",
    "plt.ylabel('Humidity (%)')\n",
    "plt.legend(title=\"Weather\")\n",
    "plt.show()\n"
   ]
  },
  {
   "cell_type": "markdown",
   "metadata": {
    "application/vnd.databricks.v1+cell": {
     "cellMetadata": {},
     "inputWidgets": {},
     "nuid": "e4e4dac9-cd63-48a1-916b-82b6c41cd524",
     "showTitle": false,
     "tableResultSettingsMap": {},
     "title": ""
    }
   },
   "source": [
    "**1. Clear Weather Conditions:**\n",
    "\n",
    "- These are represented by green circles.\n",
    "- Mostly observed at lower humidity levels, approximately 15% to 30%.\n",
    "- Temperatures range from 295 K to 305 K.\n",
    "\n",
    "**2. Cloudy Weather Conditions:**\n",
    "\n",
    "- Represented by orange crosses.\n",
    "- Observed at both low and high humidity levels, approximately 15% to 55%.\n",
    "- Temperatures range from 295 K to 305 K.\n",
    "\n",
    "**3. Smoke Conditions:**\n",
    "\n",
    "- Represented by blue squares.\n",
    "- Observed at higher temperatures, around 300 K to 305 K.\n",
    "- Humidity levels range from approximately 15% to 45%.\n",
    "\n",
    "**4. Haze Conditions:**\n",
    "\n",
    "- Represented by pink pluses.\n",
    "- Observed at various humidity levels, approximately 15% to 45%.\n",
    "- Temperatures range from 295 K to 305 K."
   ]
  },
  {
   "cell_type": "code",
   "execution_count": null,
   "metadata": {
    "application/vnd.databricks.v1+cell": {
     "cellMetadata": {
      "byteLimit": 2048000,
      "rowLimit": 10000
     },
     "inputWidgets": {},
     "nuid": "dc0f852e-ee40-411b-86da-367dff598ac7",
     "showTitle": false,
     "tableResultSettingsMap": {},
     "title": ""
    }
   },
   "outputs": [
    {
     "data": {
      "image/png": "[encoded data removed]",
      "text/plain": [
       "<Figure size 1000x600 with 1 Axes>"
      ]
     },
     "metadata": {},
     "output_type": "display_data"
    }
   ],
   "source": [
    "plt.figure(figsize=(10, 6))\n",
    "sns.countplot(data=df_pandas, x='Weather Description', palette='viridis', order=df_pandas['Weather Description'].value_counts().index)\n",
    "plt.title('Weather Condition Distribution')\n",
    "plt.xlabel('Weather Description')\n",
    "plt.ylabel('Count')\n",
    "plt.xticks(rotation=45)\n",
    "plt.show()\n"
   ]
  },
  {
   "cell_type": "markdown",
   "metadata": {
    "application/vnd.databricks.v1+cell": {
     "cellMetadata": {},
     "inputWidgets": {},
     "nuid": "edf3f5ba-8d86-4d55-91b8-06d3832fd171",
     "showTitle": false,
     "tableResultSettingsMap": {},
     "title": ""
    }
   },
   "source": [
    "- Dominant Condition: The most frequent weather condition is \"clear sky\" with 8 occurrences.\n",
    "- Moderate Frequency: \"Few clouds,\" \"smoke,\" and \"haze\" each appear 3 times.\n",
    "- Least Common: \"Broken clouds\" is the least frequent condition with only 2 occurrences."
   ]
  },
  {
   "cell_type": "code",
   "execution_count": null,
   "metadata": {
    "application/vnd.databricks.v1+cell": {
     "cellMetadata": {
      "byteLimit": 2048000,
      "rowLimit": 10000
     },
     "inputWidgets": {},
     "nuid": "e34ec5f2-11dd-436b-9390-224265bd34a9",
     "showTitle": false,
     "tableResultSettingsMap": {},
     "title": ""
    }
   },
   "outputs": [
    {
     "data": {
      "image/png": "[encoded data removed]",
      "text/plain": [
       "<Figure size 1200x600 with 1 Axes>"
      ]
     },
     "metadata": {},
     "output_type": "display_data"
    }
   ],
   "source": [
    "plt.figure(figsize=(12, 6))\n",
    "sns.lineplot(data=df_pandas, x='longitude', y='wind_speed', label='Wind Speed', color='blue')\n",
    "sns.lineplot(data=df_pandas, x='longitude', y='wind_gust', label='Wind Gust', color='orange')\n",
    "plt.title('Wind Speed and Wind Gust vs Longitude')\n",
    "plt.xlabel('Longitude')\n",
    "plt.ylabel('Wind (km/h)')\n",
    "plt.legend()\n",
    "plt.show()\n"
   ]
  },
  {
   "cell_type": "markdown",
   "metadata": {
    "application/vnd.databricks.v1+cell": {
     "cellMetadata": {},
     "inputWidgets": {},
     "nuid": "68d7dc5e-7359-4892-879e-1d545c0519aa",
     "showTitle": false,
     "tableResultSettingsMap": {},
     "title": ""
    }
   },
   "source": [
    "- The wind gust demonstrates sudden and significant changes across different longitudes, whereas the wind speed remains more consistent.\n",
    "\n",
    "- Specific longitudes (around 74 and 80 degrees) experience higher wind gusts, suggesting localized atmospheric conditions affecting wind gusts."
   ]
  },
  {
   "cell_type": "code",
   "execution_count": null,
   "metadata": {
    "application/vnd.databricks.v1+cell": {
     "cellMetadata": {
      "byteLimit": 2048000,
      "rowLimit": 10000
     },
     "inputWidgets": {},
     "nuid": "a9f4b454-713f-4a2b-a87b-45d33a567b0d",
     "showTitle": false,
     "tableResultSettingsMap": {},
     "title": ""
    }
   },
   "outputs": [
    {
     "data": {
      "image/png": "[encoded data removed]",
      "text/plain": [
       "<Figure size 1000x600 with 1 Axes>"
      ]
     },
     "metadata": {},
     "output_type": "display_data"
    }
   ],
   "source": [
    "plt.figure(figsize=(10, 6))\n",
    "sns.scatterplot(data=df_pandas, x='cloudiness%', y='Temperature', hue='Weather Description', palette='coolwarm')\n",
    "plt.title('Cloudiness vs Temperature')\n",
    "plt.xlabel('Cloudiness (%)')\n",
    "plt.ylabel('Temperature (K)')\n",
    "plt.show()\n"
   ]
  },
  {
   "cell_type": "markdown",
   "metadata": {
    "application/vnd.databricks.v1+cell": {
     "cellMetadata": {},
     "inputWidgets": {},
     "nuid": "21d8dc6f-e730-43e3-a9dc-ef26471a35c0",
     "showTitle": false,
     "tableResultSettingsMap": {},
     "title": ""
    }
   },
   "source": [
    "- It suggests that specific weather descriptions, like \"broken clouds,\" are linked with higher cloudiness and temperatures.\n",
    "\n",
    "- Conversely, \"clear sky\" and other conditions occur mostly at 0% cloudiness, varying widely in temperature."
   ]
  },
  {
   "cell_type": "code",
   "execution_count": null,
   "metadata": {
    "application/vnd.databricks.v1+cell": {
     "cellMetadata": {
      "byteLimit": 2048000,
      "rowLimit": 10000
     },
     "inputWidgets": {},
     "nuid": "d126daef-6575-4d6a-be47-d2d5702f0526",
     "showTitle": false,
     "tableResultSettingsMap": {},
     "title": ""
    }
   },
   "outputs": [
    {
     "data": {
      "image/png": "[encoded data removed]",
      "text/plain": [
       "<Figure size 1000x600 with 1 Axes>"
      ]
     },
     "metadata": {},
     "output_type": "display_data"
    }
   ],
   "source": [
    "plt.figure(figsize=(10, 6))\n",
    "sns.histplot(df_pandas['Temperature'], kde=True, color='blue', bins=20)\n",
    "plt.title('Temperature Distribution')\n",
    "plt.xlabel('Temperature (K)')\n",
    "plt.ylabel('Frequency')\n",
    "plt.show()\n"
   ]
  },
  {
   "cell_type": "code",
   "execution_count": null,
   "metadata": {
    "application/vnd.databricks.v1+cell": {
     "cellMetadata": {
      "byteLimit": 2048000,
      "rowLimit": 10000
     },
     "inputWidgets": {},
     "nuid": "0a4dc5eb-8e2a-46fe-a1af-0bde66b62070",
     "showTitle": false,
     "tableResultSettingsMap": {},
     "title": ""
    }
   },
   "outputs": [
    {
     "data": {
      "image/png": "[encoded data removed]",
      "text/plain": [
       "<Figure size 1200x800 with 2 Axes>"
      ]
     },
     "metadata": {},
     "output_type": "display_data"
    }
   ],
   "source": [
    "    # Selecting relevant numeric columns\n",
    "numeric_columns = ['cloudiness%', 'latitude', 'longitude', 'Feels like Temperature', 'Humidity', 'Pressure', \n",
    "                   'Sea Level', 'Temperature', 'Max Temperature', 'Min Temperature', 'wind_speed', 'wind_gust']\n",
    "\n",
    "# Convert to Pandas DataFrame and calculate correlation matrix\n",
    "correlation_matrix = df_pandas[numeric_columns].corr()\n",
    "\n",
    "plt.figure(figsize=(12, 8))\n",
    "sns.heatmap(correlation_matrix, annot=True, cmap='coolwarm', linewidths=0.5)\n",
    "plt.title('Correlation Heatmap')\n",
    "plt.show()"
   ]
  },
  {
   "cell_type": "markdown",
   "metadata": {
    "application/vnd.databricks.v1+cell": {
     "cellMetadata": {},
     "inputWidgets": {},
     "nuid": "4fa20462-31d2-4559-9fb1-384650f3e247",
     "showTitle": false,
     "tableResultSettingsMap": {},
     "title": ""
    }
   },
   "source": [
    "**Strong Positive Correlations:**\n",
    "- Temperature, Max Temperature, and Min Temperature: These variables show a very high positive correlation with each other (close to 1).\n",
    "\n",
    "- Feels Like Temperature: Strongly positively correlated with Temperature, Max Temperature, and Min Temperature.\n",
    "\n",
    "- Pressure and Sea Level: Exhibit a perfect positive correlation (1).\n",
    "\n",
    "**Strong Negative Correlations:**\n",
    "- Feels Like Temperature: Strongly negatively correlated with Latitude (-0.83) and Pressure (-0.89).\n",
    "\n",
    "- Temperature, Max Temperature, and Min Temperature: Strong negative correlations with Pressure and Sea Level (around -0.87 to -0.89).\n",
    "\n",
    "- Humidity: Moderately negatively correlated with Latitude (-0.57) and Pressure (-0.59)"
   ]
  },
  {
   "cell_type": "code",
   "execution_count": null,
   "metadata": {
    "application/vnd.databricks.v1+cell": {
     "cellMetadata": {},
     "inputWidgets": {},
     "nuid": "53ff4ad6-497f-4051-acc5-59a57107498d",
     "showTitle": false,
     "tableResultSettingsMap": {},
     "title": ""
    }
   },
   "outputs": [],
   "source": []
  }
 ],
 "metadata": {
  "application/vnd.databricks.v1+notebook": {
   "computePreferences": null,
   "dashboards": [],
   "environmentMetadata": {
    "base_environment": "",
    "environment_version": "2"
   },
   "language": "python",
   "notebookMetadata": {
    "pythonIndentUnit": 4
   },
   "notebookName": "Process Weather Event Data",
   "widgets": {}
  },
  "kernelspec": {
   "display_name": "Python 3 (ipykernel)",
   "language": "python",
   "name": "python3"
  },
  "language_info": {
   "codemirror_mode": {
    "name": "ipython",
    "version": 3
   },
   "file_extension": ".py",
   "mimetype": "text/x-python",
   "name": "python",
   "nbconvert_exporter": "python",
   "pygments_lexer": "ipython3",
   "version": "3.10.0"
  }
 },
 "nbformat": 4,
 "nbformat_minor": 4
}
