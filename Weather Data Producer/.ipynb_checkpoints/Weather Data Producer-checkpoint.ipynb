{
 "cells": [
  {
   "cell_type": "markdown",
   "metadata": {
    "application/vnd.databricks.v1+cell": {
     "cellMetadata": {},
     "inputWidgets": {},
     "nuid": "a4ed716f-3d77-45c7-b7f7-08fc4b33ded5",
     "showTitle": false,
     "tableResultSettingsMap": {},
     "title": ""
    }
   },
   "source": [
    "Installing Required Libraries"
   ]
  },
  {
   "cell_type": "code",
   "execution_count": null,
   "metadata": {
    "application/vnd.databricks.v1+cell": {
     "cellMetadata": {
      "byteLimit": 2048000,
      "rowLimit": 10000
     },
     "inputWidgets": {},
     "nuid": "afb35402-45ec-4cdf-b48a-f17cd5583558",
     "showTitle": false,
     "tableResultSettingsMap": {},
     "title": ""
    }
   },
   "outputs": [
    {
     "name": "stdout",
     "output_type": "stream",
     "text": [
      "\u001b[43mNote: you may need to restart the kernel using dbutils.library.restartPython() to use updated packages.\u001b[0m\n",
      "Requirement already satisfied: azure-eventhub in /local_disk0/.ephemeral_nfs/envs/pythonEnv-ead3b418-4df9-4869-8a41-43d4989535fc/lib/python3.10/site-packages (5.13.0)\n",
      "Requirement already satisfied: azure-core>=1.27.0 in /local_disk0/.ephemeral_nfs/envs/pythonEnv-ead3b418-4df9-4869-8a41-43d4989535fc/lib/python3.10/site-packages (from azure-eventhub) (1.32.0)\n",
      "Requirement already satisfied: typing-extensions>=4.0.1 in /local_disk0/.ephemeral_nfs/envs/pythonEnv-ead3b418-4df9-4869-8a41-43d4989535fc/lib/python3.10/site-packages (from azure-eventhub) (4.12.2)\n",
      "Requirement already satisfied: six>=1.11.0 in /usr/lib/python3/dist-packages (from azure-core>=1.27.0->azure-eventhub) (1.16.0)\n",
      "Requirement already satisfied: requests>=2.21.0 in /databricks/python3/lib/python3.10/site-packages (from azure-core>=1.27.0->azure-eventhub) (2.28.1)\n",
      "Requirement already satisfied: certifi>=2017.4.17 in /databricks/python3/lib/python3.10/site-packages (from requests>=2.21.0->azure-core>=1.27.0->azure-eventhub) (2022.12.7)\n",
      "Requirement already satisfied: idna<4,>=2.5 in /databricks/python3/lib/python3.10/site-packages (from requests>=2.21.0->azure-core>=1.27.0->azure-eventhub) (3.4)\n",
      "Requirement already satisfied: charset-normalizer<3,>=2 in /databricks/python3/lib/python3.10/site-packages (from requests>=2.21.0->azure-core>=1.27.0->azure-eventhub) (2.0.4)\n",
      "Requirement already satisfied: urllib3<1.27,>=1.21.1 in /databricks/python3/lib/python3.10/site-packages (from requests>=2.21.0->azure-core>=1.27.0->azure-eventhub) (1.26.14)\n",
      "\u001b[43mNote: you may need to restart the kernel using dbutils.library.restartPython() to use updated packages.\u001b[0m\n"
     ]
    }
   ],
   "source": [
    "%pip install --upgrade azure-eventhub"
   ]
  },
  {
   "cell_type": "code",
   "execution_count": null,
   "metadata": {
    "application/vnd.databricks.v1+cell": {
     "cellMetadata": {
      "byteLimit": 2048000,
      "rowLimit": 10000
     },
     "inputWidgets": {},
     "nuid": "7bf5d8c6-fc8f-413a-b5f4-b094ba1eda0b",
     "showTitle": false,
     "tableResultSettingsMap": {},
     "title": ""
    }
   },
   "outputs": [
    {
     "name": "stdout",
     "output_type": "stream",
     "text": [
      "\u001b[43mNote: you may need to restart the kernel using dbutils.library.restartPython() to use updated packages.\u001b[0m\n",
      "Requirement already satisfied: typing_extensions in /local_disk0/.ephemeral_nfs/envs/pythonEnv-ead3b418-4df9-4869-8a41-43d4989535fc/lib/python3.10/site-packages (4.12.2)\n",
      "\u001b[43mNote: you may need to restart the kernel using dbutils.library.restartPython() to use updated packages.\u001b[0m\n"
     ]
    }
   ],
   "source": [
    "%pip install --upgrade typing_extensions"
   ]
  },
  {
   "cell_type": "code",
   "execution_count": null,
   "metadata": {
    "application/vnd.databricks.v1+cell": {
     "cellMetadata": {
      "byteLimit": 2048000,
      "rowLimit": 10000
     },
     "inputWidgets": {},
     "nuid": "83eccbf3-4fff-4d93-9572-d72bd70f8410",
     "showTitle": false,
     "tableResultSettingsMap": {},
     "title": ""
    }
   },
   "outputs": [
    {
     "name": "stdout",
     "output_type": "stream",
     "text": [
      "\u001b[43mNote: you may need to restart the kernel using dbutils.library.restartPython() to use updated packages.\u001b[0m\n",
      "Requirement already satisfied: requests in /databricks/python3/lib/python3.10/site-packages (2.28.1)\n",
      "Requirement already satisfied: idna<4,>=2.5 in /databricks/python3/lib/python3.10/site-packages (from requests) (3.4)\n",
      "Requirement already satisfied: certifi>=2017.4.17 in /databricks/python3/lib/python3.10/site-packages (from requests) (2022.12.7)\n",
      "Requirement already satisfied: charset-normalizer<3,>=2 in /databricks/python3/lib/python3.10/site-packages (from requests) (2.0.4)\n",
      "Requirement already satisfied: urllib3<1.27,>=1.21.1 in /databricks/python3/lib/python3.10/site-packages (from requests) (1.26.14)\n",
      "\u001b[43mNote: you may need to restart the kernel using dbutils.library.restartPython() to use updated packages.\u001b[0m\n"
     ]
    }
   ],
   "source": [
    "%pip install requests"
   ]
  },
  {
   "cell_type": "code",
   "execution_count": null,
   "metadata": {
    "application/vnd.databricks.v1+cell": {
     "cellMetadata": {
      "byteLimit": 2048000,
      "rowLimit": 10000
     },
     "inputWidgets": {},
     "nuid": "86b43e83-5acc-4047-bce1-20ae32d21e6e",
     "showTitle": false,
     "tableResultSettingsMap": {},
     "title": ""
    }
   },
   "outputs": [],
   "source": [
    "dbutils.library.restartPython()"
   ]
  },
  {
   "cell_type": "markdown",
   "metadata": {
    "application/vnd.databricks.v1+cell": {
     "cellMetadata": {},
     "inputWidgets": {},
     "nuid": "be72ada8-9cf6-4809-8798-6268f5c97b90",
     "showTitle": false,
     "tableResultSettingsMap": {},
     "title": ""
    }
   },
   "source": [
    "Importing Required Libraries"
   ]
  },
  {
   "cell_type": "code",
   "execution_count": null,
   "metadata": {
    "application/vnd.databricks.v1+cell": {
     "cellMetadata": {
      "byteLimit": 2048000,
      "rowLimit": 10000
     },
     "inputWidgets": {},
     "nuid": "e4df3e97-8d33-44a9-9db9-2c6fb7c003c7",
     "showTitle": false,
     "tableResultSettingsMap": {},
     "title": ""
    }
   },
   "outputs": [],
   "source": [
    "import requests\n",
    "import json\n",
    "from azure.eventhub import EventHubProducerClient, EventData"
   ]
  },
  {
   "cell_type": "code",
   "execution_count": null,
   "metadata": {
    "application/vnd.databricks.v1+cell": {
     "cellMetadata": {
      "byteLimit": 2048000,
      "rowLimit": 10000
     },
     "inputWidgets": {},
     "nuid": "1cf41488-ad40-4383-8fae-7c7c6acd82ae",
     "showTitle": false,
     "tableResultSettingsMap": {},
     "title": ""
    }
   },
   "outputs": [],
   "source": [
    "# Event Hub connection details\n",
    "event_hub_connection_string = \"****\"\n",
    "event_hub_name = \"weatherdatahub\"\n"
   ]
  },
  {
   "cell_type": "code",
   "execution_count": null,
   "metadata": {
    "application/vnd.databricks.v1+cell": {
     "cellMetadata": {
      "byteLimit": 2048000,
      "rowLimit": 10000
     },
     "inputWidgets": {},
     "nuid": "f1736ddb-5fa3-4fd2-a39c-9c763ec4e364",
     "showTitle": false,
     "tableResultSettingsMap": {},
     "title": ""
    }
   },
   "outputs": [],
   "source": [
    "# OpenWeatherMap API setup\n",
    "weather_api_key = \"***********\"\n",
    "#city_name = \"Hyderabad\"\n",
    "cities = [\n",
    "    \"Hyderabad\", \"Mumbai\", \"Delhi\", \"Chennai\", \"Bangalore\", \"Kolkata\", \n",
    "    \"Pune\", \"Jaipur\", \"Ahmedabad\", \"Surat\", \"Lucknow\", \"Kanpur\", \"Nagpur\", \n",
    "    \"Indore\", \"Patna\", \"Bhopal\", \"Vadodara\", \"Coimbatore\", \"Kochi\"\n",
    "]\n",
    "\n",
    "#weather_api_url = f\"https://api.openweathermap.org/data/2.5/weather?q={city_name}&appid={weather_api_key}\"\n"
   ]
  },
  {
   "cell_type": "code",
   "execution_count": null,
   "metadata": {
    "application/vnd.databricks.v1+cell": {
     "cellMetadata": {
      "byteLimit": 2048000,
      "rowLimit": 10000
     },
     "inputWidgets": {},
     "nuid": "ac6c27a8-1fad-47d2-b65c-a07bf82d1411",
     "showTitle": false,
     "tableResultSettingsMap": {},
     "title": ""
    }
   },
   "outputs": [],
   "source": [
    "# Function to fetch weather data from OpenWeatherMap API\n",
    "'''\n",
    "def get_weather_data():\n",
    "    response = requests.get(weather_api_url)\n",
    "    if response.status_code == 200:\n",
    "        return response.json()\n",
    "    else:\n",
    "        return None\n",
    "'''\n",
    "    \n",
    "# Function to fetch weather data from OpenWeatherMap API\n",
    "def get_weather_data(city_name):\n",
    "    weather_api_url = f\"https://api.openweathermap.org/data/2.5/weather?q={city_name}&appid={weather_api_key}\"\n",
    "    response = requests.get(weather_api_url)\n",
    "    if response.status_code == 200:\n",
    "        return response.json()\n",
    "    else:\n",
    "        print(f\"Failed to fetch data for {city_name}. Status code: {response.status_code}\")\n",
    "        return None\n"
   ]
  },
  {
   "cell_type": "code",
   "execution_count": null,
   "metadata": {
    "application/vnd.databricks.v1+cell": {
     "cellMetadata": {
      "byteLimit": 2048000,
      "rowLimit": 10000
     },
     "inputWidgets": {},
     "nuid": "f24945f2-e17b-43aa-b718-26535d1d5041",
     "showTitle": false,
     "tableResultSettingsMap": {},
     "title": ""
    }
   },
   "outputs": [],
   "source": [
    "#Send data to Eventhubs\n",
    "def send_data_to_event_hub(data):\n",
    "    try:\n",
    "        client = EventHubProducerClient.from_connection_string(event_hub_connection_string)\n",
    "        # Convert the data into a JSON string\n",
    "        event_data = EventData(json.dumps(data))\n",
    "\n",
    "        # Send the data to Event Hubs\n",
    "        with client:\n",
    "            # Creating a batch to send multiple events at once\n",
    "            event_data_batch = client.create_batch()\n",
    "            event_data_batch.add(event_data)\n",
    "            client.send_batch(event_data_batch)\n",
    "        print(\"Data sent to Event Hubs successfully!\")\n",
    "    except Exception as e:\n",
    "        print(f\"Error sending data to Event Hubs: {e}\")"
   ]
  },
  {
   "cell_type": "code",
   "execution_count": null,
   "metadata": {
    "application/vnd.databricks.v1+cell": {
     "cellMetadata": {
      "byteLimit": 2048000,
      "rowLimit": 10000
     },
     "inputWidgets": {},
     "nuid": "2f683df0-ad80-45c0-ba73-2d2a2c169edc",
     "showTitle": false,
     "tableResultSettingsMap": {},
     "title": ""
    }
   },
   "outputs": [
    {
     "name": "stdout",
     "output_type": "stream",
     "text": [
      "Fetching weather data for Hyderabad...\n",
      "Data sent to Event Hubs successfully!\n",
      "Fetching weather data for Mumbai...\n",
      "Data sent to Event Hubs successfully!\n",
      "Fetching weather data for Delhi...\n",
      "Data sent to Event Hubs successfully!\n",
      "Fetching weather data for Chennai...\n",
      "Data sent to Event Hubs successfully!\n",
      "Fetching weather data for Bangalore...\n",
      "Data sent to Event Hubs successfully!\n",
      "Fetching weather data for Kolkata...\n",
      "Data sent to Event Hubs successfully!\n",
      "Fetching weather data for Pune...\n",
      "Data sent to Event Hubs successfully!\n",
      "Fetching weather data for Jaipur...\n",
      "Data sent to Event Hubs successfully!\n",
      "Fetching weather data for Ahmedabad...\n",
      "Data sent to Event Hubs successfully!\n",
      "Fetching weather data for Surat...\n",
      "Data sent to Event Hubs successfully!\n",
      "Fetching weather data for Lucknow...\n",
      "Data sent to Event Hubs successfully!\n",
      "Fetching weather data for Kanpur...\n",
      "Data sent to Event Hubs successfully!\n",
      "Fetching weather data for Nagpur...\n",
      "Data sent to Event Hubs successfully!\n",
      "Fetching weather data for Indore...\n",
      "Data sent to Event Hubs successfully!\n",
      "Fetching weather data for Patna...\n",
      "Data sent to Event Hubs successfully!\n",
      "Fetching weather data for Bhopal...\n",
      "Data sent to Event Hubs successfully!\n",
      "Fetching weather data for Vadodara...\n",
      "Data sent to Event Hubs successfully!\n",
      "Fetching weather data for Coimbatore...\n",
      "Data sent to Event Hubs successfully!\n",
      "Fetching weather data for Kochi...\n",
      "Data sent to Event Hubs successfully!\n"
     ]
    }
   ],
   "source": [
    "# Loop through the cities and send weather data\n",
    "for city in cities:\n",
    "    print(f\"Fetching weather data for {city}...\")\n",
    "    weather_data = get_weather_data(city)\n",
    "    if weather_data:\n",
    "        # Send the weather data to Event Hubs\n",
    "        send_data_to_event_hub(weather_data)\n",
    "    else:\n",
    "        print(f\"Failed to fetch or send data for {city}.\")"
   ]
  },
  {
   "cell_type": "code",
   "execution_count": null,
   "metadata": {
    "application/vnd.databricks.v1+cell": {
     "cellMetadata": {
      "byteLimit": 2048000,
      "rowLimit": 10000
     },
     "inputWidgets": {},
     "nuid": "d127a730-4b82-4455-bda3-a028f6282453",
     "showTitle": false,
     "tableResultSettingsMap": {},
     "title": ""
    }
   },
   "outputs": [
    {
     "data": {
      "text/plain": [
       "{'coord': {'lon': 76.2602, 'lat': 9.9399},\n",
       " 'weather': [{'id': 803,\n",
       "   'main': 'Clouds',\n",
       "   'description': 'broken clouds',\n",
       "   'icon': '04d'}],\n",
       " 'base': 'stations',\n",
       " 'main': {'temp': 303.66,\n",
       "  'feels_like': 306.54,\n",
       "  'temp_min': 303.66,\n",
       "  'temp_max': 307.14,\n",
       "  'pressure': 1008,\n",
       "  'humidity': 58,\n",
       "  'sea_level': 1008,\n",
       "  'grnd_level': 1007},\n",
       " 'visibility': 10000,\n",
       " 'wind': {'speed': 2.24, 'deg': 270},\n",
       " 'clouds': {'all': 72},\n",
       " 'dt': 1738833530,\n",
       " 'sys': {'type': 2,\n",
       "  'id': 267800,\n",
       "  'country': 'IN',\n",
       "  'sunrise': 1738804607,\n",
       "  'sunset': 1738846879},\n",
       " 'timezone': 19800,\n",
       " 'id': 1273874,\n",
       " 'name': 'Kochi',\n",
       " 'cod': 200}"
      ]
     },
     "execution_count": 23,
     "metadata": {},
     "output_type": "execute_result"
    }
   ],
   "source": [
    "weather_data"
   ]
  },
  {
   "cell_type": "code",
   "execution_count": null,
   "metadata": {
    "application/vnd.databricks.v1+cell": {
     "cellMetadata": {},
     "inputWidgets": {},
     "nuid": "cb65af37-b449-4439-86f1-46cd9bb83297",
     "showTitle": false,
     "tableResultSettingsMap": {},
     "title": ""
    }
   },
   "outputs": [],
   "source": []
  }
 ],
 "metadata": {
  "application/vnd.databricks.v1+notebook": {
   "computePreferences": null,
   "dashboards": [],
   "environmentMetadata": {
    "base_environment": "",
    "environment_version": "2"
   },
   "language": "python",
   "notebookMetadata": {
    "pythonIndentUnit": 4
   },
   "notebookName": "Weather Data Producer",
   "widgets": {}
  },
  "kernelspec": {
   "display_name": "Python 3 (ipykernel)",
   "language": "python",
   "name": "python3"
  },
  "language_info": {
   "codemirror_mode": {
    "name": "ipython",
    "version": 3
   },
   "file_extension": ".py",
   "mimetype": "text/x-python",
   "name": "python",
   "nbconvert_exporter": "python",
   "pygments_lexer": "ipython3",
   "version": "3.10.0"
  }
 },
 "nbformat": 4,
 "nbformat_minor": 4
}
